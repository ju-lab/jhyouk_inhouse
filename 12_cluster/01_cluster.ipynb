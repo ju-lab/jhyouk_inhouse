{
 "cells": [
  {
   "cell_type": "code",
   "execution_count": 18,
   "metadata": {},
   "outputs": [
    {
     "name": "stdout",
     "output_type": "stream",
     "text": [
      "The End\n"
     ]
    }
   ],
   "source": [
    "import sys\n",
    "input_fn = 'S1-8Gy-1_cluster_sort.vcf'\n",
    "#input_fn = sys.argv[1]\n",
    "input_file = file(input_fn)\n",
    "output_file = file(input_fn.replace(\".vcf\",\"_cluster_snp.vcf\"),'w')\n",
    "\n",
    "n_cluster = 20\n",
    "input_line = input_file.readline().strip()\n",
    "previous_chr = 0\n",
    "previous_pos = 0\n",
    "previous_line = ''\n",
    "i_cluster = []\n",
    "\n",
    "while input_line:\n",
    "    input_split = input_line.split('\\t')\n",
    "    input_chr = int(input_split[0].replace('X','20').replace('Y','21').replace('MT','22'))\n",
    "    input_pos = long(input_split[1])\n",
    "    \n",
    "    if input_chr == previous_chr:\n",
    "        if input_pos <= previous_pos + n_cluster:\n",
    "            if previous_line in i_cluster:\n",
    "                'blank'\n",
    "            else:\n",
    "                i_cluster.append(previous_line)\n",
    "                \n",
    "            if input_line in i_cluster:\n",
    "                'blank'\n",
    "            else:\n",
    "                i_cluster.append(input_line)               \n",
    "    \n",
    "    previous_chr = input_chr\n",
    "    previous_pos = input_pos\n",
    "    previous_line = input_line\n",
    "    \n",
    "    input_line = input_file.readline().strip()\n",
    "\n",
    "for input_line in i_cluster:\n",
    "    input_split = input_line.split('\\t')\n",
    "    input_chr = input_split[0].replace('20','X').replace('21','Y').replace('22','MT')\n",
    "    \n",
    "    if input_split[2] == 'T':\n",
    "        output_file.write('\\t'.join(input_split) +'\\n')\n",
    "    \n",
    "print 'The End'"
   ]
  },
  {
   "cell_type": "code",
   "execution_count": null,
   "metadata": {},
   "outputs": [],
   "source": []
  }
 ],
 "metadata": {
  "kernelspec": {
   "display_name": "Python 2",
   "language": "python",
   "name": "python2"
  },
  "language_info": {
   "codemirror_mode": {
    "name": "ipython",
    "version": 2
   },
   "file_extension": ".py",
   "mimetype": "text/x-python",
   "name": "python",
   "nbconvert_exporter": "python",
   "pygments_lexer": "ipython2",
   "version": "2.7.14"
  }
 },
 "nbformat": 4,
 "nbformat_minor": 2
}
