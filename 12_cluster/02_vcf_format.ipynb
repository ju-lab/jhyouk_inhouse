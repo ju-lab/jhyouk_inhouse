{
 "cells": [
  {
   "cell_type": "code",
   "execution_count": 2,
   "metadata": {},
   "outputs": [
    {
     "name": "stdout",
     "output_type": "stream",
     "text": [
      "The END\n"
     ]
    }
   ],
   "source": [
    "import sys\n",
    "input_fn = 'S1-radiation_sort.vcf'\n",
    "#input_fn = sys.argv[1]\n",
    "input_file = file(input_fn)\n",
    "output_file = file(input_fn.replace(\".vcf\",\"_tf.vcf\"),'w')\n",
    "\n",
    "input_line = input_file.readline().strip()\n",
    "\n",
    "while input_line[0:1]:\n",
    "    output_file.write(input_line + '\\tFILTER\\tINFO'+'\\n')\n",
    "    input_line = input_file.readline().strip()\n",
    "\n",
    "while input_line:\n",
    "    output_file.write(input_line + '\\t.\\t.'+'\\n')\n",
    "    input_line = input_file.readline().strip()\n",
    "    \n",
    "print 'The END'"
   ]
  },
  {
   "cell_type": "code",
   "execution_count": null,
   "metadata": {},
   "outputs": [],
   "source": []
  },
  {
   "cell_type": "code",
   "execution_count": null,
   "metadata": {},
   "outputs": [],
   "source": []
  }
 ],
 "metadata": {
  "kernelspec": {
   "display_name": "Python 2",
   "language": "python",
   "name": "python2"
  },
  "language_info": {
   "codemirror_mode": {
    "name": "ipython",
    "version": 2
   },
   "file_extension": ".py",
   "mimetype": "text/x-python",
   "name": "python",
   "nbconvert_exporter": "python",
   "pygments_lexer": "ipython2",
   "version": "2.7.14"
  }
 },
 "nbformat": 4,
 "nbformat_minor": 2
}
