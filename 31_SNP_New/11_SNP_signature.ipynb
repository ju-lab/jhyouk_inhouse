{
 "cells": [
  {
   "cell_type": "code",
   "execution_count": 5,
   "metadata": {},
   "outputs": [
    {
     "name": "stdout",
     "output_type": "stream",
     "text": [
      "1\t3062828\t.\tA\tC\t.\t01\t.\t.\t.\n",
      "THE END\n"
     ]
    }
   ],
   "source": [
    "import sys\n",
    "\n",
    "input_fn = sys.argv[1]\n",
    "#input_fn = 'S1N2P15_1-2a_union_2.readinfo.readc.rasmy_pon.filter1.mreadc.mrasmy.filter2.vcf'\n",
    "input_file = file(input_fn)\n",
    "output_fn = input_fn.replace('.vcf','') + '.none_to_clonal.vcf'\n",
    "output_fn1 = input_fn.replace('.vcf','') + '.clonal_to_clonal.vcf'\n",
    "output_file= file(output_fn,'w')\n",
    "output_file1= file(output_fn1,'w')\n",
    "\n",
    "input_line = input_file.readline().strip()\n",
    "while input_line[0:1]=='#':\n",
    "    input_split = input_line.split('\\t')\n",
    "    output_file.write('\\t'.join(input_split[0:10]) + '\\n')\n",
    "    input_line = input_file.readline().strip()\n",
    "    \n",
    "while input_line:\n",
    "    input_split = input_line.split('\\t')\n",
    "    input_decision = input_split[41]\n",
    "    \n",
    "    if input_decision == 'none_to_clonal':\n",
    "        output_file.write('\\t'.join(input_split[0:10]) + '\\n')\n",
    "    elif input_decision == 'clonal_to_clonal':\n",
    "        output_file1.write('\\t'.join(input_split[0:10]) + '\\n')\n",
    "    else:\n",
    "        'blank'\n",
    "    \n",
    "    input_line = input_file.readline().strip()\n",
    "print 'THE END'"
   ]
  },
  {
   "cell_type": "code",
   "execution_count": null,
   "metadata": {},
   "outputs": [],
   "source": []
  }
 ],
 "metadata": {
  "kernelspec": {
   "display_name": "Python 2",
   "language": "python",
   "name": "python2"
  },
  "language_info": {
   "codemirror_mode": {
    "name": "ipython",
    "version": 2
   },
   "file_extension": ".py",
   "mimetype": "text/x-python",
   "name": "python",
   "nbconvert_exporter": "python",
   "pygments_lexer": "ipython2",
   "version": "2.7.14"
  }
 },
 "nbformat": 4,
 "nbformat_minor": 2
}
