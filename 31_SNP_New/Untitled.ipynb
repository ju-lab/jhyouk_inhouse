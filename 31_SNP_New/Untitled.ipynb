{
 "cells": [
  {
   "cell_type": "code",
   "execution_count": 9,
   "metadata": {},
   "outputs": [
    {
     "name": "stdout",
     "output_type": "stream",
     "text": [
      "The End\n"
     ]
    }
   ],
   "source": [
    "input_file = file(\"S1-0Gy-1_union_2_normalpanel1_11.readinfo.readc.rasmy_pon_b6_4_pon_balbc_7.filter1.vcf\")\n",
    "\n",
    "output1_file=file(\"clonal.vcf\",'w')\n",
    "output2_file=file(\"subclonal.vcf\",'w')\n",
    "\n",
    "input_line = input_file.readline().strip()\n",
    "input_line = input_file.readline().strip()\n",
    "\n",
    "while input_line:\n",
    "    input_split = input_line.split('\\t')\n",
    "    input_decision = input_split[36]\n",
    "    \n",
    "    \n",
    "    if input_decision == 'T':\n",
    "        input_vaf = float(input_split[35])\n",
    "        if input_vaf >=0.3:\n",
    "            output1_file.write(input_line+'\\n')\n",
    "        else:\n",
    "            output2_file.write(input_line+'\\n')\n",
    "\n",
    "    input_line = input_file.readline().strip()\n",
    "    \n",
    "print 'The End'"
   ]
  },
  {
   "cell_type": "code",
   "execution_count": null,
   "metadata": {},
   "outputs": [],
   "source": [
    "input_file = file()\n",
    "\n",
    "input_line = input_file.readline().strip()\n",
    "while input_line:\n",
    "    \n",
    "\n"
   ]
  },
  {
   "cell_type": "code",
   "execution_count": null,
   "metadata": {},
   "outputs": [],
   "source": []
  }
 ],
 "metadata": {
  "kernelspec": {
   "display_name": "Python 2",
   "language": "python",
   "name": "python2"
  },
  "language_info": {
   "codemirror_mode": {
    "name": "ipython",
    "version": 2
   },
   "file_extension": ".py",
   "mimetype": "text/x-python",
   "name": "python",
   "nbconvert_exporter": "python",
   "pygments_lexer": "ipython2",
   "version": "2.7.14"
  }
 },
 "nbformat": 4,
 "nbformat_minor": 2
}
