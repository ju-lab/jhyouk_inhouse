{
 "cells": [
  {
   "cell_type": "code",
   "execution_count": 37,
   "metadata": {},
   "outputs": [
    {
     "name": "stdout",
     "output_type": "stream",
     "text": [
      "THE END\n"
     ]
    }
   ],
   "source": [
    "import sys \n",
    "#input_fn = sys.argv[1] \n",
    "#input_file = file(input_fn) \n",
    "#output_file = file(input_fn.replace('.vcf','.reformat.vcf'),'w') \n",
    "#output_file.write(' '+'\\t'+input_fn.split('.')[0] + '\\n')\n",
    "\n",
    "input_fn = 'dbs_0Gy_breast.vcf'\n",
    "input_file = file(input_fn) \n",
    "output_file = file(input_fn.replace('.vcf','.dbs_sig.vcf'),'w')\n",
    "input_line = input_file.readline() \n",
    "if input_line[0:1] == '#': \n",
    "    input_line = input_file.readline()\n",
    "\n",
    "prev_chr = 0 \n",
    "prev_pos = 0 \n",
    "prev_ref = '' \n",
    "prev_alt = ''\n",
    "\n",
    "DBS_ref_type = ['AC','AT','CC','CG','CT','GC','TA','TC','TG','TT'] \n",
    "DBS_type = ['AC>CA','AC>CG','AC>CT','AC>GA','AC>GG','AC>GT','AC>TA','AC>TG','AC>TT','AT>CA','AT>CC','AT>CG','AT>GA','AT>GC','AT>TA','CC>AA','CC>AG','CC>AT',\n",
    "                                                                               'CC>GA','CC>GG','CC>GT','CC>TA','CC>TG','CC>TT','CG>AT','CG>GC','CG>GT','CG>TA','CG>TC','CG>TT','CT>AA','CT>AC','CT>AG','CT>GA','CT>GC','CT>GG',\n",
    "                                                                               'CT>TA','CT>TC','CT>TG','GC>AA','GC>AG','GC>AT','GC>CA','GC>CG','GC>TA','TA>AT','TA>CG','TA>CT','TA>GC','TA>GG','TA>GT','TC>AA','TC>AG','TC>AT',\n",
    "                                                                               'TC>CA','TC>CG','TC>CT','TC>GA','TC>GG','TC>GT','TG>AA','TG>AC','TG>AT','TG>CA','TG>CC','TG>CT','TG>GA','TG>GC','TG>GT','TT>AA','TT>AC','TT>AG',\n",
    "                                                                               'TT>CA','TT>CC','TT>CG','TT>GA','TT>GC','TT>GG'] \n",
    "DBS_num = [] \n",
    "for i in range(0,78): \n",
    "    DBS_num.append(0)\n",
    "\n",
    "def complementary_base(input_base): \n",
    "    if input_base == 'A': return 'T' \n",
    "    elif input_base == 'C': return 'G' \n",
    "    elif input_base == 'G': return 'C' \n",
    "    elif input_base =='T': return 'A' \n",
    "    else: \n",
    "        print 'unpredicted input' \n",
    "        sys.exit(1)\n",
    "\n",
    "while input_line:\n",
    "    input_split = input_line.split('\\t') \n",
    "    input_chr = int(input_split[0].replace('X','23').replace('Y','24').replace('MT','25')) \n",
    "    input_pos = long(input_split[1]) \n",
    "    input_ref = input_split[3] \n",
    "    input_alt = input_split[4][0:1]\n",
    "\n",
    "    if input_chr == prev_chr:\n",
    "        if input_pos == prev_pos + 1:\n",
    "            new_ref = prev_ref+input_ref\n",
    "            new_alt = prev_alt+input_alt\n",
    "            #print new_ref\n",
    "            try:\n",
    "                temp_index0 = DBS_type.index(new_ref + '>' + new_alt)  \n",
    "            except:\n",
    "                new_ref = complementary_base(input_ref) + complementary_base(prev_ref)\n",
    "                new_alt = complementary_base(input_alt) + complementary_base(prev_alt)\n",
    "\n",
    "            #print prev_ref,input_ref,prev_alt,input_alt\n",
    "            temp_index = DBS_type.index(new_ref + '>' + new_alt)\n",
    "            DBS_num[temp_index] += 1  \n",
    "\n",
    "    prev_chr = input_chr\n",
    "    prev_pos = input_pos\n",
    "    prev_ref = input_ref\n",
    "    prev_alt = input_alt\n",
    "    input_line = input_file.readline()\n",
    "\n",
    "for j in range(0,78): \n",
    "    output_file.write(DBS_type[j] + '\\t' + str(DBS_num[j]) +'\\n')\n",
    "    #print DBS_type[j] + '\\t' + str(DBS_num[j])\n",
    "print 'THE END'"
   ]
  },
  {
   "cell_type": "code",
   "execution_count": null,
   "metadata": {},
   "outputs": [],
   "source": []
  }
 ],
 "metadata": {
  "kernelspec": {
   "display_name": "Python 2",
   "language": "python",
   "name": "python2"
  },
  "language_info": {
   "codemirror_mode": {
    "name": "ipython",
    "version": 2
   },
   "file_extension": ".py",
   "mimetype": "text/x-python",
   "name": "python",
   "nbconvert_exporter": "python",
   "pygments_lexer": "ipython2",
   "version": "2.7.14"
  }
 },
 "nbformat": 4,
 "nbformat_minor": 2
}
