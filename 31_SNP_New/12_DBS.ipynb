{
 "cells": [
  {
   "cell_type": "code",
   "execution_count": 10,
   "metadata": {},
   "outputs": [
    {
     "ename": "IOError",
     "evalue": "[Errno 2] No such file or directory: '-f'",
     "output_type": "error",
     "traceback": [
      "\u001b[0;31m\u001b[0m",
      "\u001b[0;31mIOError\u001b[0mTraceback (most recent call last)",
      "\u001b[0;32m<ipython-input-10-2a78e4683081>\u001b[0m in \u001b[0;36m<module>\u001b[0;34m()\u001b[0m\n\u001b[1;32m      5\u001b[0m \u001b[0minput_fn\u001b[0m \u001b[0;34m=\u001b[0m \u001b[0msys\u001b[0m\u001b[0;34m.\u001b[0m\u001b[0margv\u001b[0m\u001b[0;34m[\u001b[0m\u001b[0;36m1\u001b[0m\u001b[0;34m]\u001b[0m\u001b[0;34m\u001b[0m\u001b[0m\n\u001b[1;32m      6\u001b[0m \u001b[0;31m#input_fn = 'S1-8Gy-1_union_2.readinfo.readc.rasmy_pon.filter1.mreadc.mrasmy.filter2.none_to_clonal.vcf'\u001b[0m\u001b[0;34m\u001b[0m\u001b[0;34m\u001b[0m\u001b[0m\n\u001b[0;32m----> 7\u001b[0;31m \u001b[0minput_file\u001b[0m \u001b[0;34m=\u001b[0m \u001b[0mfile\u001b[0m\u001b[0;34m(\u001b[0m\u001b[0minput_fn\u001b[0m\u001b[0;34m)\u001b[0m\u001b[0;34m\u001b[0m\u001b[0m\n\u001b[0m\u001b[1;32m      8\u001b[0m \u001b[0;34m\u001b[0m\u001b[0m\n\u001b[1;32m      9\u001b[0m \u001b[0moutput_file\u001b[0m \u001b[0;34m=\u001b[0m \u001b[0mfile\u001b[0m\u001b[0;34m(\u001b[0m\u001b[0minput_fn\u001b[0m\u001b[0;34m.\u001b[0m\u001b[0mreplace\u001b[0m\u001b[0;34m(\u001b[0m\u001b[0;34m\".vcf\"\u001b[0m\u001b[0;34m,\u001b[0m\u001b[0;34m\"dbs.vcf\"\u001b[0m\u001b[0;34m)\u001b[0m\u001b[0;34m,\u001b[0m\u001b[0;34m'w'\u001b[0m\u001b[0;34m)\u001b[0m\u001b[0;34m\u001b[0m\u001b[0m\n",
      "\u001b[0;31mIOError\u001b[0m: [Errno 2] No such file or directory: '-f'"
     ]
    }
   ],
   "source": [
    "import sys\n",
    "\n",
    "cluster_size = 20\n",
    "\n",
    "input_fn = sys.argv[1]\n",
    "#input_fn = 'S1-8Gy-1_union_2.readinfo.readc.rasmy_pon.filter1.mreadc.mrasmy.filter2.none_to_clonal.vcf'\n",
    "input_file = file(input_fn)\n",
    "\n",
    "output_file = file(input_fn.replace(\".vcf\",\"dbs.vcf\"),'w')\n",
    "output_file1 = file(input_fn.replace(\".vcf\",\".cluster.vcf\"),'w')\n",
    "input_line = input_file.readline().strip()\n",
    "\n",
    "\n",
    "while input_line[0:1]=='#':\n",
    "    input_split = input_line.split('\\t')\n",
    "    output_file.write('\\t'.join(input_split[0:10]) + '\\n')\n",
    "    output_file1.write('\\t'.join(input_split[0:10]) + '\\n')\n",
    "\n",
    "\n",
    "    input_line = input_file.readline().strip()\n",
    "\n",
    "prev_line = ''\n",
    "prev_info = ''\n",
    "dbs = {}\n",
    "clu = {}\n",
    "\n",
    "prev_chr = '0'\n",
    "prev_pos = 0\n",
    "while input_line:\n",
    "    input_split = input_line.split('\\t')\n",
    "    input_chr = input_split[0]\n",
    "    input_pos = long(input_split[1])\n",
    "    info = '\\t'.join(input_split[0:4])\n",
    "    \n",
    "    if input_chr == prev_chr:\n",
    "        if input_pos - prev_pos <=cluster_size:            \n",
    "            if prev_info in clu:\n",
    "                'blank'\n",
    "            else:\n",
    "                clu[prev_info] = prev_line\n",
    "                output_file1.write(prev_line + '\\n')\n",
    "                \n",
    "            clu[info] = input_line\n",
    "            output_file1.write(input_line + '\\n')\n",
    "            \n",
    "            if input_pos - prev_pos == 1:                \n",
    "                if prev_info in dbs:\n",
    "                    'blank'\n",
    "                else:\n",
    "                    dbs[prev_info] = prev_line\n",
    "                    output_file.write(prev_line + '\\n')\n",
    "                dbs[info] = input_line\n",
    "                output_file.write(input_line + '\\n')\n",
    "                \n",
    "        else:\n",
    "            'blank'\n",
    "    else:\n",
    "        prev_chr = input_chr    \n",
    "        prev_line = ''\n",
    "        prev_info=''\n",
    "        prev_pos = 0\n",
    "        \n",
    "    prev_pos = input_pos\n",
    "    prev_line = input_line\n",
    "    prev_info = info\n",
    "    \n",
    "    input_line = input_file.readline().strip()\n",
    "\n",
    "    \n",
    "print 'The End'"
   ]
  },
  {
   "cell_type": "code",
   "execution_count": null,
   "metadata": {},
   "outputs": [],
   "source": []
  }
 ],
 "metadata": {
  "kernelspec": {
   "display_name": "Python 2",
   "language": "python",
   "name": "python2"
  },
  "language_info": {
   "codemirror_mode": {
    "name": "ipython",
    "version": 2
   },
   "file_extension": ".py",
   "mimetype": "text/x-python",
   "name": "python",
   "nbconvert_exporter": "python",
   "pygments_lexer": "ipython2",
   "version": "2.7.14"
  }
 },
 "nbformat": 4,
 "nbformat_minor": 2
}
