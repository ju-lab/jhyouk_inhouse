{
 "cells": [
  {
   "cell_type": "code",
   "execution_count": 7,
   "metadata": {},
   "outputs": [
    {
     "ename": "NameError",
     "evalue": "name 'this_ssdtart' is not defined",
     "output_type": "error",
     "traceback": [
      "\u001b[0;31m\u001b[0m",
      "\u001b[0;31mNameError\u001b[0mTraceback (most recent call last)",
      "\u001b[0;32m<ipython-input-7-9f8a6b3a124e>\u001b[0m in \u001b[0;36m<module>\u001b[0;34m()\u001b[0m\n\u001b[1;32m     23\u001b[0m         \u001b[0;32mif\u001b[0m \u001b[0minput_ing\u001b[0m \u001b[0;34m==\u001b[0m \u001b[0;34m'yes'\u001b[0m\u001b[0;34m:\u001b[0m\u001b[0;34m\u001b[0m\u001b[0m\n\u001b[1;32m     24\u001b[0m             \u001b[0minput_ing\u001b[0m \u001b[0;34m=\u001b[0m \u001b[0;34m'no'\u001b[0m\u001b[0;34m\u001b[0m\u001b[0m\n\u001b[0;32m---> 25\u001b[0;31m             \u001b[0moutput_file\u001b[0m\u001b[0;34m.\u001b[0m\u001b[0mwrite\u001b[0m\u001b[0;34m(\u001b[0m\u001b[0;34m'%s\\t%s\\t%s\\n'\u001b[0m \u001b[0;34m%\u001b[0m\u001b[0;34m(\u001b[0m\u001b[0mthis_chr\u001b[0m\u001b[0;34m,\u001b[0m \u001b[0mthis_ssdtart\u001b[0m\u001b[0;34m,\u001b[0m \u001b[0mthis_end\u001b[0m\u001b[0;34m)\u001b[0m\u001b[0;34m)\u001b[0m\u001b[0;34m\u001b[0m\u001b[0m\n\u001b[0m\u001b[1;32m     26\u001b[0m             \u001b[0mthis_chr\u001b[0m \u001b[0;34m=\u001b[0m \u001b[0;34m'0'\u001b[0m\u001b[0;34m\u001b[0m\u001b[0m\n\u001b[1;32m     27\u001b[0m             \u001b[0mthis_start\u001b[0m \u001b[0;34m=\u001b[0m \u001b[0;34m'0'\u001b[0m\u001b[0;34m\u001b[0m\u001b[0m\n",
      "\u001b[0;31mNameError\u001b[0m: name 'this_ssdtart' is not defined"
     ]
    }
   ],
   "source": [
    "import sys\n",
    "\n",
    "input_fn = sys.argv[1]\n",
    "#input_fn = 'S1N2P15_1-4a'\n",
    "input_file = file(input_fn + '.mpileup')\n",
    "\n",
    "output_file = file(sys.argv[1] + '_callable.bed','w')\n",
    "output_file.write('##callable region, depth of which is 10 or more\\n')\n",
    "i=0\n",
    "this_chr = '0'\n",
    "this_start = '0'\n",
    "this_end = '0'\n",
    "input_ing = 'no'\n",
    "input_line = input_file.readline().strip()\n",
    "\n",
    "while input_line:\n",
    "    input_split = input_line.split('\\t')\n",
    "    input_chr = input_split[0]\n",
    "    input_pos = input_split[1]\n",
    "    input_depth = int(input_split[3])\n",
    "        \n",
    "    if this_chr != '0' and input_chr != this_chr:\n",
    "        if input_ing == 'yes':\n",
    "            input_ing = 'no'\n",
    "            output_file.write('%s\\t%s\\t%s\\n' %(this_chr, this_start, this_end))\n",
    "            this_chr = '0'\n",
    "            this_start = '0'\n",
    "            this_end = '0'\n",
    "        else:\n",
    "            'blank'\n",
    "    elif input_depth >=10:\n",
    "        if input_ing == 'yes':\n",
    "            this_end = input_pos\n",
    "            i+=1\n",
    "        else:\n",
    "            input_ing = 'yes'\n",
    "            this_chr = input_chr\n",
    "            this_start = input_pos\n",
    "            this_end = input_pos\n",
    "            i+=1\n",
    "    else:\n",
    "        if input_ing == 'yes':\n",
    "            input_ing = 'no'\n",
    "            output_file.write('%s\\t%s\\t%s\\n' %(this_chr, this_start, this_end))\n",
    "            #print '%s\\t%s\\t%s\\n' %(this_chr, this_start, this_end)\n",
    "            this_chr = '0'\n",
    "            this_start = '0'\n",
    "            this_end = '0'\n",
    "        else:\n",
    "            'blank'\n",
    "        \n",
    "    if input_chr =='MT':\n",
    "        break\n",
    "        \n",
    "    #print input_depth\n",
    "    \n",
    "    input_line = input_file.readline().strip()\n",
    "        \n",
    "print 'Total region>=10 is ', i\n",
    "    "
   ]
  },
  {
   "cell_type": "code",
   "execution_count": null,
   "metadata": {},
   "outputs": [],
   "source": []
  }
 ],
 "metadata": {
  "kernelspec": {
   "display_name": "Python 2",
   "language": "python",
   "name": "python2"
  },
  "language_info": {
   "codemirror_mode": {
    "name": "ipython",
    "version": 2
   },
   "file_extension": ".py",
   "mimetype": "text/x-python",
   "name": "python",
   "nbconvert_exporter": "python",
   "pygments_lexer": "ipython2",
   "version": "2.7.14"
  }
 },
 "nbformat": 4,
 "nbformat_minor": 2
}
