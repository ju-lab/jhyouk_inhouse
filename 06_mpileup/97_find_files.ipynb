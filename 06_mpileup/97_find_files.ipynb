{
 "cells": [
  {
   "cell_type": "code",
   "execution_count": 8,
   "metadata": {},
   "outputs": [
    {
     "name": "stdout",
     "output_type": "stream",
     "text": [
      "The End\n"
     ]
    }
   ],
   "source": [
    "import sys, os\n",
    "\n",
    "output_file = file('98_gzip.sh','w')\n",
    "for (path, dir, files) in os.walk(os.getcwd()):\n",
    "    for filename in files:\n",
    "        if '.mpileup.gz' in filename:\n",
    "            'blank'\n",
    "        elif '.mpileup' in filename:\n",
    "            output_file.write('gzip ' + filename + ' &> ' + filename +'.out &&' +'\\n')\n",
    "            #print('gzip ' + filename + ' &> ' + filename +'.out')\n",
    "            #print(\"%s/%s\" % (path, filename))\n",
    "\n",
    "print 'The End'"
   ]
  },
  {
   "cell_type": "code",
   "execution_count": null,
   "metadata": {},
   "outputs": [],
   "source": []
  }
 ],
 "metadata": {
  "kernelspec": {
   "display_name": "Python 2",
   "language": "python",
   "name": "python2"
  },
  "language_info": {
   "codemirror_mode": {
    "name": "ipython",
    "version": 2
   },
   "file_extension": ".py",
   "mimetype": "text/x-python",
   "name": "python",
   "nbconvert_exporter": "python",
   "pygments_lexer": "ipython2",
   "version": "2.7.14"
  }
 },
 "nbformat": 4,
 "nbformat_minor": 2
}
