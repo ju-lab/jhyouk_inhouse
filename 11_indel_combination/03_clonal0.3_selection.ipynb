{
 "cells": [
  {
   "cell_type": "code",
   "execution_count": 3,
   "metadata": {},
   "outputs": [
    {
     "name": "stdout",
     "output_type": "stream",
     "text": [
      "The End\n"
     ]
    }
   ],
   "source": [
    "import sys\n",
    "\n",
    "input_fn = sys.argv[1]\n",
    "input_file = file(input_fn)\n",
    "output_file = file(input_fn.replace(\".vcf\",\"_clonal.vcf\"),'w')\n",
    "#input_file = file(\"S1-0Gy-1.strelka_varscan_union_indel.vcf\")\n",
    "#output_file = file(\"S1-0Gy-1.strelka_varscan_union_indel_clonal.vcf\",'w')\n",
    "\n",
    "\n",
    "input_line = input_file.readline().strip()\n",
    "\n",
    "while input_line[0] == '#':\n",
    "    output_file.write(input_line + '\\n')\n",
    "    input_line = input_file.readline().strip()\n",
    "\n",
    "while input_line:\n",
    "    input_split = input_line.split('\\t')\n",
    "    info = input_split[17]\n",
    "    germline_var = int(info.split(';')[4])\n",
    "    vaf = float(info.split(';')[8])\n",
    "    \n",
    "    if germline_var < 2 and vaf >= 0.3:\n",
    "        output_file.write(input_line + '\\n')\n",
    "    else:\n",
    "        'blank'\n",
    "        \n",
    "    input_line = input_file.readline().strip()\n",
    "\n",
    "print 'The End'\n"
   ]
  },
  {
   "cell_type": "code",
   "execution_count": null,
   "metadata": {},
   "outputs": [],
   "source": []
  }
 ],
 "metadata": {
  "kernelspec": {
   "display_name": "Python 2",
   "language": "python",
   "name": "python2"
  },
  "language_info": {
   "codemirror_mode": {
    "name": "ipython",
    "version": 2
   },
   "file_extension": ".py",
   "mimetype": "text/x-python",
   "name": "python",
   "nbconvert_exporter": "python",
   "pygments_lexer": "ipython2",
   "version": "2.7.14"
  }
 },
 "nbformat": 4,
 "nbformat_minor": 2
}
