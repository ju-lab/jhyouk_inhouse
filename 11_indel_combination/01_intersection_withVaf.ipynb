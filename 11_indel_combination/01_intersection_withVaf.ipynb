{
 "cells": [
  {
   "cell_type": "code",
   "execution_count": 3,
   "metadata": {},
   "outputs": [],
   "source": [
    "import sys\n",
    "#input_fn = sys.argv[1]\n",
    "input_file = file(\"S1-0Gy-1-all.strelka_varscan_union.vcf\")\n",
    "output_file = file(\"S1-0Gy-1-all.strelka_varscan_intersection_withVaf.vcf\",'w')\n",
    "input_line = input_file.readline()\n",
    "while input_line[0:1] == '#':\n",
    "    output_file.write(input_line.rstrip() + '\\t' + 'Vaf' + '\\n')\n",
    "    input_line = input_file.readline()\n",
    "\n",
    "while input_line:\n",
    "    input_split = input_line.split('\\t')\n",
    "    input_caller = input_line[-1].rstrip()\n",
    "    if input_caller == 'strelka;varscan':\n",
    "        input_TAR = float(input_split[10].split(':')[2].split(',')[0])\n",
    "        input_TIR = float(input_split[10].split(':')[3].split(',')[0])\n",
    "        vaf = round(input_TIR / (input_TAR + input_TIR),2)\n",
    "        output_file.write(input_line.rstrip() + 't' + str(vaf) + '\\n')\n",
    "    else:\n",
    "        'blank'\n",
    "    input_line = input_file.readline()\n",
    "    "
   ]
  },
  {
   "cell_type": "code",
   "execution_count": null,
   "metadata": {},
   "outputs": [],
   "source": []
  }
 ],
 "metadata": {
  "kernelspec": {
   "display_name": "Python 2",
   "language": "python",
   "name": "python2"
  },
  "language_info": {
   "codemirror_mode": {
    "name": "ipython",
    "version": 2
   },
   "file_extension": ".py",
   "mimetype": "text/x-python",
   "name": "python",
   "nbconvert_exporter": "python",
   "pygments_lexer": "ipython2",
   "version": "2.7.14"
  }
 },
 "nbformat": 4,
 "nbformat_minor": 2
}
