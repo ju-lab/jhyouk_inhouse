{
 "cells": [
  {
   "cell_type": "code",
   "execution_count": null,
   "metadata": {},
   "outputs": [],
   "source": [
    "import sys\n",
    "\n",
    "#input_fn = sys.argv[1]\n",
    "#input_file = file(input_fn)\n",
    "#output_file = file(input_fn.replace(\".vcf\",\"_signature.vcf\"),'w')\n",
    "\n",
    "input_file = file(\"S1-0Gy-1.strelka_varscan_union_indel_clonal_removeN1S1.vcf\")\n",
    "output_file = file(\"S1-0Gy-1.strelka_varscan_union_indel_clonal_removeN1S1_signature.vcf\",'w')\n",
    "\n",
    "input_line = input_file.readline().strip()\n",
    "output_file.write('x-axis\\tnumber\\n')\n",
    "\n",
    "while input_line[0] == '#':\n",
    "    input_line = input_file.readline().strip()\n",
    "\n",
    "xcomponent = ['20','21','30','31','32','40','41','42','43','50','51','52','53','54','55']\n",
    "#xcomponent = ['21','31','32','41','42','43','51','52','53','54','55']\n",
    "ycomponent = []\n",
    "\n",
    "for i in xcomponent:\n",
    "    ycomponent.append(0)\n",
    "\n",
    "while input_line:\n",
    "    temp = ''\n",
    "    input_split = input_line.split('\\t')\n",
    "    length_del = len(input_split[3][1:])\n",
    "    mh = int(input_split[20])\n",
    "    if length_del > 5:\n",
    "        length_del = 5\n",
    "    if mh > 5:\n",
    "        mh = 5\n",
    "    temp = str(length_del) + str(mh)\n",
    "    \n",
    "    if temp in xcomponent:\n",
    "        ycomponent[xcomponent.index(temp)] += 1\n",
    "    else:\n",
    "        'blank'\n",
    "    input_line = input_file.readline().strip()\n",
    "\n",
    "for j in xcomponent:\n",
    "    output_file.write(j + '\\t' + str(ycomponent[xcomponent.index(j)]) + '\\n')"
   ]
  }
 ],
 "metadata": {
  "kernelspec": {
   "display_name": "Python 2",
   "language": "python",
   "name": "python2"
  },
  "language_info": {
   "codemirror_mode": {
    "name": "ipython",
    "version": 2
   },
   "file_extension": ".py",
   "mimetype": "text/x-python",
   "name": "python",
   "nbconvert_exporter": "python",
   "pygments_lexer": "ipython2",
   "version": "2.7.14"
  }
 },
 "nbformat": 4,
 "nbformat_minor": 2
}
