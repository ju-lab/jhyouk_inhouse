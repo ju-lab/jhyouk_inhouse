{
 "cells": [
  {
   "cell_type": "code",
   "execution_count": 5,
   "metadata": {},
   "outputs": [],
   "source": [
    "import sys\n",
    "    \n",
    "input_fn = sys.argv[1]\n",
    "input_file = file(input_fn)\n",
    "output_file = file(input_fn.replace(\".vcf\",\"_pattern.vcf\"),'w')\n",
    "\n",
    "#input_file = file(\"S1-0Gy-1.strelka_varscan_union_indel_clonal_removeN1S1_nonrepeat.vcf\")\n",
    "#output_file = file(\"S1-0Gy-1.strelka_varscan_union_indel_clonal_removeN1S1_nonrepeat_pattern.vcf\",'w')\n",
    "\n",
    "input_line = input_file.readline().strip()\n",
    "input_line = input_file.readline().strip()\n",
    "\n",
    "while input_line:\n",
    "    input_split = input_line.split('\\t')\n",
    "\n",
    "    if len(input_split[3]) < len(input_split[4]):                        \n",
    "        output_file.write(str(len(input_split[4])-1)+'\\n')\n",
    "    elif len(input_split[3]) > len(input_split[4]):\n",
    "        output_file.write(str((len(input_split[3])-1)*-1)+'\\n')\n",
    "    \n",
    "    input_line = input_file.readline().strip()"
   ]
  },
  {
   "cell_type": "code",
   "execution_count": null,
   "metadata": {},
   "outputs": [],
   "source": []
  },
  {
   "cell_type": "code",
   "execution_count": null,
   "metadata": {},
   "outputs": [],
   "source": []
  }
 ],
 "metadata": {
  "kernelspec": {
   "display_name": "Python 2",
   "language": "python",
   "name": "python2"
  },
  "language_info": {
   "codemirror_mode": {
    "name": "ipython",
    "version": 2
   },
   "file_extension": ".py",
   "mimetype": "text/x-python",
   "name": "python",
   "nbconvert_exporter": "python",
   "pygments_lexer": "ipython2",
   "version": "2.7.14"
  }
 },
 "nbformat": 4,
 "nbformat_minor": 2
}
