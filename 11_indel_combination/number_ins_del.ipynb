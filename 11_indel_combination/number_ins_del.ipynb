{
 "cells": [
  {
   "cell_type": "code",
   "execution_count": 10,
   "metadata": {},
   "outputs": [
    {
     "name": "stdout",
     "output_type": "stream",
     "text": [
      "208 1047\n"
     ]
    }
   ],
   "source": [
    "import sys\n",
    "\n",
    "input_file = file(\"S1-8Gy-1.strelka_varscan_union_indel_clonal_removeN1S1.vcf\")\n",
    "input_line = input_file.readline()\n",
    "input_line = input_file.readline()\n",
    "nins = 0\n",
    "ndel = 0\n",
    "\n",
    "while input_line:\n",
    "    input_split=input_line.split('\\t')\n",
    "    input_ref = len(input_split[3])\n",
    "    input_alt = len(input_split[4])\n",
    "    \n",
    "    if input_ref > input_alt:\n",
    "        ndel+=1\n",
    "    else:\n",
    "        nins+=1\n",
    "    \n",
    "    input_line = input_file.readline()\n",
    "    \n",
    "    \n",
    "print nins,ndel\n"
   ]
  },
  {
   "cell_type": "code",
   "execution_count": 14,
   "metadata": {},
   "outputs": [
    {
     "name": "stdout",
     "output_type": "stream",
     "text": [
      "The End\n"
     ]
    }
   ],
   "source": [
    "input_file = file(\"S1-0Gy-2.strelka_varscan_union_indel_clonal_removeN1S1.vcf\")\n",
    "output_file = file(\"S1-0Gy-2.vaf.txt\",'w')\n",
    "input_line = input_file.readline()\n",
    "input_line = input_file.readline()\n",
    "\n",
    "while input_line:\n",
    "    input_split=input_line.split('\\t')\n",
    "    input_vaf = input_split[5]\n",
    "    input_true = input_split[2]\n",
    "    \n",
    "    if input_true == 'T':\n",
    "        output_file.write(input_vaf + '\\n')\n",
    "        \n",
    "    input_line = input_file.readline()\n",
    "    \n",
    "    \n",
    "print 'The End'"
   ]
  },
  {
   "cell_type": "code",
   "execution_count": null,
   "metadata": {},
   "outputs": [],
   "source": []
  }
 ],
 "metadata": {
  "kernelspec": {
   "display_name": "Python 2",
   "language": "python",
   "name": "python2"
  },
  "language_info": {
   "codemirror_mode": {
    "name": "ipython",
    "version": 2
   },
   "file_extension": ".py",
   "mimetype": "text/x-python",
   "name": "python",
   "nbconvert_exporter": "python",
   "pygments_lexer": "ipython2",
   "version": "2.7.14"
  }
 },
 "nbformat": 4,
 "nbformat_minor": 2
}
