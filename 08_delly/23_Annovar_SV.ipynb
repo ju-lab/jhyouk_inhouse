{
 "cells": [
  {
   "cell_type": "code",
   "execution_count": 6,
   "metadata": {},
   "outputs": [
    {
     "name": "stdout",
     "output_type": "stream",
     "text": [
      "The End\n"
     ]
    }
   ],
   "source": [
    "import sys, pysam\n",
    "input_fn = 'SVforAnnovar.txt'\n",
    "\n",
    "input_file = file(input_fn)\n",
    "output_file = file(input_fn.replace('.txt','.input'),'w')\n",
    "input_line = input_file.readline()\n",
    "ref_fasta = pysam.FastaFile(\"/home/users/jhyouk/99_reference/mouse/mm10/GRCm38.fa\")\n",
    "\n",
    "while input_line[0:1]=='#':\n",
    "    input_line = input_file.readline()\n",
    "\n",
    "while input_line:\n",
    "    input_split = input_line.split('\\t')\n",
    "    input_chr1 = input_split[0]\n",
    "    input_pos1 = long(input_split[1])\n",
    "    input_chr2 = input_split[2]\n",
    "    input_pos2 = long(input_split[3])\n",
    "    \n",
    "    ref_allele1 = ref_fasta.fetch(input_chr1,input_pos1-1,input_pos1)\n",
    "    ref_allele2 = ref_fasta.fetch(input_chr2,input_pos2-1,input_pos2)\n",
    "    alt_allele1 = 'A'\n",
    "    alt_allele2 = 'A'\n",
    "    if ref_allele1 == 'A':\n",
    "        alt_allele1 = 'C'\n",
    "    if ref_allele2 == 'A':\n",
    "        alt_allele2 = 'C'\n",
    "    \n",
    "    output_line1 = input_chr1 +'\\t'+ str(input_pos1)+'\\t'+ str(input_pos1) +'\\t'+ ref_allele1 + '\\t' + alt_allele1 + '\\t' + 'unknown' + '\\t' + '.'+'\\n'\n",
    "    output_line2 = input_chr2 +'\\t'+ str(input_pos2)+'\\t'+ str(input_pos2) +'\\t'+ ref_allele2 + '\\t' + alt_allele2 + '\\t' + 'unknown' + '\\t' + '.'+'\\n'    \n",
    "    \n",
    "    output_file.write(output_line1)\n",
    "    output_file.write(output_line2)\n",
    "    \n",
    "    input_line = input_file.readline()\n",
    "\n",
    "print 'The End'"
   ]
  },
  {
   "cell_type": "code",
   "execution_count": null,
   "metadata": {},
   "outputs": [],
   "source": []
  }
 ],
 "metadata": {
  "kernelspec": {
   "display_name": "Python 2",
   "language": "python",
   "name": "python2"
  },
  "language_info": {
   "codemirror_mode": {
    "name": "ipython",
    "version": 2
   },
   "file_extension": ".py",
   "mimetype": "text/x-python",
   "name": "python",
   "nbconvert_exporter": "python",
   "pygments_lexer": "ipython2",
   "version": "2.7.14"
  }
 },
 "nbformat": 4,
 "nbformat_minor": 2
}
