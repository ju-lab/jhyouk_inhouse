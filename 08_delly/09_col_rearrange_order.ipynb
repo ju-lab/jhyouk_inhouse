{
 "cells": [
  {
   "cell_type": "code",
   "execution_count": 8,
   "metadata": {},
   "outputs": [
    {
     "name": "stdout",
     "output_type": "stream",
     "text": [
      "The End\n"
     ]
    }
   ],
   "source": [
    "import sys\n",
    "input_fn = sys.argv[1]\n",
    "#input_fn = 'HBIR1-1'\n",
    "input_file = file(input_fn+'.delly.somatic.vcf.BPinfo4.filter1')\n",
    "output_fn = input_fn + '.delly.somatic.vcf.BPinfo4.filter1.rearrange'\n",
    "output_file = file (output_fn,'w')\n",
    "\n",
    "input_line = input_file.readline()\n",
    "output_file.write('#CHR1'+'\\t'+'POS1'+'\\t'+'CHR2'+'\\t'+'POS2'+'\\t'+ 'MH' + '\\t'+'Terminal'+'\\t'+'SVtype'+ input_line[1:])\n",
    "input_line=input_file.readline()\n",
    "\n",
    "while input_line:\n",
    "    input_split=input_line.split('\\t')\n",
    "    input_somatic = input_split[15]\n",
    "    if input_somatic == 'NA':\n",
    "        chr1 = input_split[0]\n",
    "        pos1 = input_split[1]\n",
    "        chr2 = input_split[11].split(';')[3].split('=')[1]\n",
    "        pos2 = input_split[11].split(';')[4].split('=')[1]\n",
    "        try:\n",
    "            mh = input_split[11].split(';')[11].split('=')[1]\n",
    "        except:\n",
    "            mh = '0'\n",
    "        terminal =input_split[11].split(';')[7].split('=')[1]\n",
    "        SVtype = input_split[11].split(';')[1].split('=')[1]\n",
    "\n",
    "        output_file.write(chr1+'\\t'+pos1+'\\t'+chr2+'\\t'+pos2+'\\t'+mh+'\\t'+terminal+'\\t'+SVtype+'\\t'+input_line)\n",
    "        \n",
    "    else:\n",
    "        input_somatic_list=input_split[15].split(',')\n",
    "        \n",
    "        for i in input_somatic_list:\n",
    "\n",
    "            chr1 = i.split('_')[0].split(':')[0]\n",
    "            try:\n",
    "                pos1 = i.split('_')[0].split(':')[1]\n",
    "            except:\n",
    "                continue\n",
    "                \n",
    "            chr2 = i.split('_')[1].split(':')[0]\n",
    "            try:\n",
    "                pos2 = i.split('_')[1].split(':')[1]\n",
    "            except:\n",
    "                continue\n",
    "                \n",
    "            mh = i.split('_')[2]\n",
    "            terminal = i.split('_')[4].split('(')[0].replace('-','to')\n",
    "            SVtype = i.split('_')[3]\n",
    "\n",
    "            temp_pos1 = ''\n",
    "            temp_pos2 = ''\n",
    "            temp_terminal = ''\n",
    "            \n",
    "            if SVtype == 'DEL' and long(pos1) > long(pos2):\n",
    "                temp_pos1 = pos1\n",
    "                temp_pos2 = pos2\n",
    "                temp_terminal = terminal\n",
    "\n",
    "                pos1 = temp_pos2\n",
    "                pos2 = temp_pos1\n",
    "                terminal = temp_terminal[3:4] + 'to' + temp_terminal[0:1]\n",
    "                \n",
    "            output_file.write(chr1+'\\t'+pos1+'\\t'+chr2+'\\t'+pos2+'\\t'+mh+'\\t'+terminal+'\\t'+SVtype+'\\t'+input_line)\n",
    "            \n",
    "    input_line = input_file.readline()\n",
    "    \n",
    "print 'The End'\n"
   ]
  },
  {
   "cell_type": "code",
   "execution_count": null,
   "metadata": {},
   "outputs": [],
   "source": []
  }
 ],
 "metadata": {
  "kernelspec": {
   "display_name": "Python 2",
   "language": "python",
   "name": "python2"
  },
  "language_info": {
   "codemirror_mode": {
    "name": "ipython",
    "version": 2
   },
   "file_extension": ".py",
   "mimetype": "text/x-python",
   "name": "python",
   "nbconvert_exporter": "python",
   "pygments_lexer": "ipython2",
   "version": "2.7.14"
  }
 },
 "nbformat": 4,
 "nbformat_minor": 2
}
