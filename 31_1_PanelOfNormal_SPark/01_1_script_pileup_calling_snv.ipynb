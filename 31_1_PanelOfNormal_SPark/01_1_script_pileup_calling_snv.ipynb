{
 "cells": [
  {
   "cell_type": "code",
   "execution_count": 4,
   "metadata": {},
   "outputs": [
    {
     "name": "stdout",
     "output_type": "stream",
     "text": [
      "done\n"
     ]
    }
   ],
   "source": [
    "import sys\n",
    "\n",
    "output_file = file('01_2_run_pileup_calling_snv_balbc_7_190226.sh','w')\n",
    "input_species = 'mouse'\n",
    "input_num = 7\n",
    "\n",
    "if input_species == 'mouse':\n",
    "    fnum = 23\n",
    "elif input_species == 'human':\n",
    "    fnum = 26\n",
    "    \n",
    "for i in range(1,fnum):\n",
    "    if i < fnum-3:\n",
    "        j=i\n",
    "    elif i == fnum-3:\n",
    "        j='X'\n",
    "    elif i == fnum-2:\n",
    "        j='Y'\n",
    "    elif i == fnum-1:\n",
    "        j='MT'\n",
    "    output_file.write('python 01_pileup_calling_snv.py mm10_balbc_7_190226.7s.q0Q0.chr%s.mpileup %s\\n' % (j,input_num))\n",
    "\n",
    "print 'done'"
   ]
  },
  {
   "cell_type": "code",
   "execution_count": null,
   "metadata": {},
   "outputs": [],
   "source": []
  },
  {
   "cell_type": "code",
   "execution_count": null,
   "metadata": {},
   "outputs": [],
   "source": []
  }
 ],
 "metadata": {
  "kernelspec": {
   "display_name": "Python 2",
   "language": "python",
   "name": "python2"
  },
  "language_info": {
   "codemirror_mode": {
    "name": "ipython",
    "version": 2
   },
   "file_extension": ".py",
   "mimetype": "text/x-python",
   "name": "python",
   "nbconvert_exporter": "python",
   "pygments_lexer": "ipython2",
   "version": "2.7.14"
  }
 },
 "nbformat": 4,
 "nbformat_minor": 2
}
