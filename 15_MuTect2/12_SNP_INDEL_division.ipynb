{
 "cells": [
  {
   "cell_type": "code",
   "execution_count": 7,
   "metadata": {},
   "outputs": [
    {
     "name": "stdout",
     "output_type": "stream",
     "text": [
      "1\t35317067\t.\tCGG\tATT\t.\t.\tDP=82;ECNT=4;NLOD=8.44;N_ART_LOD=1.22;POP_AF=1.000e-06;TLOD=7.94\tGT:AD:AF:DP:F1R2:F2R1:MBQ:MFRL:MMQ:MPOS:ORIGINAL_CONTIG_MISMATCH:PGT:PID:SA_MAP_AF:SA_POST_PROB\t0/0:42,1:0.023:43:17,1:25,0:27,33:478,246:27:25:0:0|1:35317062_CCGT_C\t0/1:36,3:0.098:39:20,1:16,2:29,33:424,279:27:24:0:0|1:35317062_CCGT_C:0.00,0.081,0.077:0.039,6.848e-03,0.954\n",
      "\n",
      "1\t88297227\t.\tGGGAAGGAAGGAAGGAA\tG,GGGAA,GGGAAGGAA\t.\t.\tDP=180;ECNT=1;NLOD=-3.725e+01,-9.759e+01,3.26;N_ART_LOD=28.71,87.39,1.38;POP_AF=1.000e-06,1.000e-06,1.000e-06;RPA=8,4,5,6;RU=GGAA;STR;TLOD=33.28,71.28,10.44\tGT:AD:AF:DP:F1R2:F2R1:MBQ:MFRL:MMQ:MPOS:ORIGINAL_CONTIG_MISMATCH:SA_MAP_AF:SA_POST_PROB\t0/0:27,10,27,1:0.158,0.351,0.096:65:16,7,16,1:11,3,11,0:34,34,36,35:461,539,537,364:60,60,60:34,33,37:0\t0/1/2/3:30,11,22,4:0.161,0.319,0.072:67:19,7,15,4:11,4,7,0:35,34,35,35:452,460,419,465:60,60,46:38,38,14:0:0.364,0.414,0.423:0.032,0.017,0.950\n",
      "\n",
      "1\t104548500\t.\tGGA\tTTT\t.\t.\tDP=30;ECNT=1;NLOD=3.01;N_ART_LOD=-1.073e+00;POP_AF=1.000e-06;TLOD=3.28\tGT:AD:AF:DP:F1R2:F2R1:MBQ:MFRL:MMQ:MPOS:ORIGINAL_CONTIG_MISMATCH:SA_MAP_AF:SA_POST_PROB\t0/0:10,0:0.083:10:4,0:6,0:35,0:506,0:0:0:0\t0/1:15,2:0.155:17:5,0:10,2:34,12:404,468:60:7:0:0.00,0.121,0.118:0.102,7.401e-03,0.891\n",
      "\n",
      "1\t109308195\t.\tGATAT\tG,GAT\t.\t.\tDP=49;ECNT=1;NLOD=3.00,-1.808e+01;N_ART_LOD=-1.045e+00,18.05;POP_AF=1.000e-06,1.000e-06;RPA=25,23,24;RU=AT;STR;TLOD=8.35,20.35\tGT:AD:AF:DP:F1R2:F2R1:MBQ:MFRL:MMQ:MPOS:ORIGINAL_CONTIG_MISMATCH:SA_MAP_AF:SA_POST_PROB\t0/0:5,0,11:0.143,0.530:16:2,0,5:3,0,6:35,0,35:500,0,492:0,60:0,38:0\t0/1/2:0,5,9:0.333,0.614:14:0,2,2:0,3,7:0,20,34:0,447,436:60,60:25,48:0:0.990,0.990,1.00:0.026,0.028,0.946\n",
      "\n",
      "1\t124883366\t.\tATC\tGCT\t.\t.\tDP=80;ECNT=4;NLOD=12.34;N_ART_LOD=-1.632e+00;POP_AF=1.000e-06;TLOD=8.07\tGT:AD:AF:DP:F1R2:F2R1:MBQ:MFRL:MMQ:MPOS:ORIGINAL_CONTIG_MISMATCH:PGT:PID:SA_MAP_AF:SA_POST_PROB\t0/0:41,0:0.023:41:23,0:18,0:35,0:474,0:0:0:0:0|1:124883366_ATC_GCT\t0/1:33,3:0.105:36:20,2:13,1:33,32:429,379:35:11:0:0|1:124883366_ATC_GCT:0.081,0.00,0.083:7.153e-03,0.042,0.951\n",
      "\n",
      "1\t129994380\t.\tTTATA\tT,TTA\t.\t.\tDP=65;ECNT=1;NLOD=3.26,-2.129e+01;N_ART_LOD=-1.115e+00,20.82;POP_AF=1.000e-06,1.000e-06;RPA=18,16,17;RU=TA;STR;TLOD=3.15,25.27\tGT:AD:AF:DP:F1R2:F2R1:MBQ:MFRL:MMQ:MPOS:ORIGINAL_CONTIG_MISMATCH:SA_MAP_AF:SA_POST_PROB\t0/0:11,0,9:0.120,0.408:20:6,0,5:5,0,4:29,0,29:553,0,470:0,60:0,36:0\t0/1/2:12,2,11:0.101,0.432:25:6,0,7:6,2,4:33,23,33:416,408,432:60,60:36,26:0:0.444,0.455,0.478:0.022,0.025,0.953\n",
      "\n",
      "1\t138958214\t.\tAGT\tCCC\t.\t.\tDP=30;ECNT=1;NLOD=3.61;N_ART_LOD=-1.128e+00;POP_AF=1.000e-06;TLOD=3.76\tGT:AD:AF:DP:F1R2:F2R1:MBQ:MFRL:MMQ:MPOS:ORIGINAL_CONTIG_MISMATCH:SA_MAP_AF:SA_POST_PROB\t0/0:12,0:0.039:12:5,0:7,0:36,0:502,0:0:0:0\t0/1:14,2:0.165:16:6,2:8,0:35,14:410,371:60:10:0:0.00,0.121,0.125:0.094,7.874e-03,0.898\n",
      "\n",
      "1\t148180585\t.\tGTATA\tG,GTA\t.\t.\tDP=63;ECNT=1;NLOD=5.35,5.08;N_ART_LOD=-1.078e+00,-1.067e+00;POP_AF=1.000e-06,1.000e-06;RPA=15,13,14;RU=TA;STR;TLOD=4.96,34.28\tGT:AD:AF:DP:F1R2:F2R1:MBQ:MFRL:MMQ:MPOS:ORIGINAL_CONTIG_MISMATCH:SA_MAP_AF:SA_POST_PROB\t0/0:17,0,0:0.128,0.144:17:8,0,0:9,0,0:35,0,0:430,0,0:0,0:0,0:0\t0/1/2:11,3,13:0.131,0.470:27:4,1,5:7,2,8:34,18,34:435,382,423:60,60:47,45:0:0.485,0.525,0.542:0.062,0.013,0.925\n",
      "\n",
      "1\t151220183\t.\tAGT\tCCC\t.\t.\tDP=49;ECNT=2;NLOD=6.88;N_ART_LOD=-1.387e+00;POP_AF=1.000e-06;TLOD=5.11\tGT:AD:AF:DP:F1R2:F2R1:MBQ:MFRL:MMQ:MPOS:ORIGINAL_CONTIG_MISMATCH:PGT:PID:SA_MAP_AF:SA_POST_PROB\t0/0:23,0:0.025:23:15,0:8,0:35,0:483,0:0:0:0:0|1:151220180_A_C\t0/1:23,2:0.111:25:9,0:14,2:35,17:423,368:60:8:0:0|1:151220180_A_C:0.00,0.081,0.080:0.169,4.834e-03,0.827\n",
      "\n",
      "2\t25903424\t.\tGGC\tTTT\t.\t.\tDP=50;ECNT=6;NLOD=4.23;N_ART_LOD=1.56;POP_AF=1.000e-06;TLOD=12.88\tGT:AD:AF:DP:F1R2:F2R1:MBQ:MFRL:MMQ:MPOS:ORIGINAL_CONTIG_MISMATCH:PGT:PID:SA_MAP_AF:SA_POST_PROB\t0/0:28,1:0.034:29:23,1:5,0:26,21:443,462:60:57:0:0|1:25903424_GGC_TTT\t0/1:17,4:0.217:21:13,4:4,0:29,10:434,430:60:25:0:0|1:25903424_GGC_TTT:0.192,0.00,0.190:9.636e-03,0.075,0.915\n",
      "\n"
     ]
    },
    {
     "ename": "SystemExit",
     "evalue": "1",
     "output_type": "error",
     "traceback": [
      "An exception has occurred, use %tb to see the full traceback.\n",
      "\u001b[0;31mSystemExit\u001b[0m\u001b[0;31m:\u001b[0m 1\n"
     ]
    }
   ],
   "source": [
    "import sys\n",
    "\n",
    "#input_fn = sys.argv[1]\n",
    "input_fn = 'S1-1Gy-2.Mutect2.vcf'\n",
    "input_file = file(input_fn)\n",
    "output_snp = file('SNP/' + input_fn.replace('.vcf','.snp.vcf'),'w')\n",
    "output_indel = file('INDEL/' + input_fn.replace('.vcf','.indel.vcf'),'w')\n",
    "\n",
    "input_line = input_file.readline()\n",
    "k=0\n",
    "while input_line:\n",
    "    if input_line[0:2] == '##':\n",
    "        'blank'\n",
    "    elif input_line[0:6] == '#CHROM':\n",
    "        output_snp.write(input_line)\n",
    "        output_indel.write(input_line)\n",
    "    else:\n",
    "\n",
    "        input_split = input_line.split('\\t')\n",
    "        if len(input_split[3]) == 1 and len(input_split[4]) == 1:\n",
    "            'blank'\n",
    "        elif len(input_split[3]) == len(input_split[4]):\n",
    "            if len(input_split[3]) > 2:\n",
    "                k+=1\n",
    "                print input_line\n",
    "        else:\n",
    "            'blank'\n",
    "    input_line = input_file.readline()\n",
    "    \n",
    "    if k==10:\n",
    "        sys.exit(1)\n",
    "\n",
    "print 'The END'\n",
    "        \n",
    "\n",
    "\n",
    "\n"
   ]
  },
  {
   "cell_type": "code",
   "execution_count": null,
   "metadata": {},
   "outputs": [],
   "source": []
  }
 ],
 "metadata": {
  "kernelspec": {
   "display_name": "Python 2",
   "language": "python",
   "name": "python2"
  },
  "language_info": {
   "codemirror_mode": {
    "name": "ipython",
    "version": 2
   },
   "file_extension": ".py",
   "mimetype": "text/x-python",
   "name": "python",
   "nbconvert_exporter": "python",
   "pygments_lexer": "ipython2",
   "version": "2.7.14"
  }
 },
 "nbformat": 4,
 "nbformat_minor": 2
}
