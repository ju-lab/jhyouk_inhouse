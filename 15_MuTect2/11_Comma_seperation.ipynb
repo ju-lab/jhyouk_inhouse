{
 "cells": [
  {
   "cell_type": "code",
   "execution_count": null,
   "metadata": {},
   "outputs": [],
   "source": [
    "import sys\n",
    "\n",
    "#input_fn = sys.argv[1]\n",
    "input_fn = 'S1-1Gy-2.Mutect2.vcf'\n",
    "input_file = file(input_fn)\n",
    "output_file= file(input_fn.replace('.vcf','.cs.vcf'),'w')\n",
    "\n",
    "input_line = input_file.readline()\n",
    "k=0\n",
    "while input_line:\n",
    "    if input_line[0:2] == '##':\n",
    "        'blank'\n",
    "    elif input_line[0:6] == '#CHROM':\n",
    "        output_file.write(input_line)\n",
    "    else:\n",
    "        input_split = input_line.split('\\t')\n",
    "        "
   ]
  }
 ],
 "metadata": {
  "kernelspec": {
   "display_name": "Python 2",
   "language": "python",
   "name": "python2"
  },
  "language_info": {
   "codemirror_mode": {
    "name": "ipython",
    "version": 2
   },
   "file_extension": ".py",
   "mimetype": "text/x-python",
   "name": "python",
   "nbconvert_exporter": "python",
   "pygments_lexer": "ipython2",
   "version": "2.7.14"
  }
 },
 "nbformat": 4,
 "nbformat_minor": 2
}
