{
 "cells": [
  {
   "cell_type": "code",
   "execution_count": 2,
   "metadata": {},
   "outputs": [
    {
     "name": "stdout",
     "output_type": "stream",
     "text": [
      "425 429 663 1809\n"
     ]
    }
   ],
   "source": [
    "import sys\n",
    "\n",
    "#input_fn = 'B3-0_2Gy-3_snp_union_2.readinfo.readc.rasmy_PanelofNormal.filter1.readc.rasmy.filter2.vcf'\n",
    "input_fn = sys.argv[1] + '_snp_union_2.readinfo.readc.rasmy_PanelofNormal.filter1.readc.rasmy.filter2.vcf'\n",
    "input_file = file(input_fn)\n",
    "output_file = file(input_fn.replace('.vcf','.nonrepeat.vcf'),'w')\n",
    "\n",
    "input_line = input_file.readline().strip()\n",
    "\n",
    "while input_line[0:1]=='#':\n",
    "    output_file.write(input_line + '\\n')\n",
    "    input_line = input_file.readline().strip()\n",
    "    \n",
    "input_cutoff = 1\n",
    "lt=0\n",
    "rt=0\n",
    "both=0\n",
    "total =0\n",
    "while input_line:\n",
    "    input_split = input_line.split('\\t')\n",
    "    try:\n",
    "        input_repeat_lt = int(input_split[29].split(';')[12].replace('.','0'))\n",
    "        input_repeat_rt = int(input_split[29].split(';')[13].replace('.','0'))\n",
    "    except:\n",
    "        print input_split[29]\n",
    "        break\n",
    "        \n",
    "    if input_split[41] == 'none_to_clonal':\n",
    "        total+=1\n",
    "        if input_repeat_rt <input_cutoff:\n",
    "            if input_repeat_lt < input_cutoff:\n",
    "                both+=1\n",
    "                output_file.write(input_line+'\\n')\n",
    "                #print input_split[29]\n",
    "            else:\n",
    "                rt+=1\n",
    "                \n",
    "        elif input_repeat_lt <input_cutoff:\n",
    "            lt+=1\n",
    "    \n",
    "    input_line = input_file.readline().strip()\n",
    "\n",
    "#print lt,rt,both,total"
   ]
  },
  {
   "cell_type": "code",
   "execution_count": null,
   "metadata": {},
   "outputs": [],
   "source": []
  }
 ],
 "metadata": {
  "kernelspec": {
   "display_name": "Python 2",
   "language": "python",
   "name": "python2"
  },
  "language_info": {
   "codemirror_mode": {
    "name": "ipython",
    "version": 2
   },
   "file_extension": ".py",
   "mimetype": "text/x-python",
   "name": "python",
   "nbconvert_exporter": "python",
   "pygments_lexer": "ipython2",
   "version": "2.7.14"
  }
 },
 "nbformat": 4,
 "nbformat_minor": 2
}
