{
 "cells": [
  {
   "cell_type": "code",
   "execution_count": 5,
   "metadata": {},
   "outputs": [
    {
     "name": "stdout",
     "output_type": "stream",
     "text": [
      "235\n",
      "248\n"
     ]
    }
   ],
   "source": [
    "import sys\n",
    "\n",
    "input_fn = sys.argv[1]\n",
    "#input_fn = 'Panc_C3_SO1_snp_union_2.readinfo.readc.rasmy_PanelofNormal.filter1.coverage.vcf'\n",
    "input_file = file(input_fn)\n",
    "\n",
    "output_file = file(input_fn.replace('.vcf','.clonal.vcf'),'w')\n",
    "\n",
    "input_line = input_file.readline().strip()\n",
    "while input_line[0:1] == '#':\n",
    "    output_file.write('\\t'.join(input_line.split('\\t')[0:10])+ '\\n')\n",
    "    input_line = input_file.readline().strip()\n",
    "i=0\n",
    "j=0\n",
    "while input_line:\n",
    "    input_split = input_line.split('\\t')\n",
    "    input_decision = input_split[34]\n",
    "    input_portion = input_split[36]\n",
    "    \n",
    "    if input_decision == 'T':\n",
    "        if float(input_split[33])>=0.3:\n",
    "            i+=1\n",
    "            \n",
    "        if float(input_portion) >= 0.6:\n",
    "            output_file.write('\\t'.join(input_split[0:10])+'\\n')\n",
    "            j+=1\n",
    "    input_line = input_file.readline().strip()"
   ]
  },
  {
   "cell_type": "code",
   "execution_count": null,
   "metadata": {},
   "outputs": [],
   "source": []
  }
 ],
 "metadata": {
  "kernelspec": {
   "display_name": "Python 2",
   "language": "python",
   "name": "python2"
  },
  "language_info": {
   "codemirror_mode": {
    "name": "ipython",
    "version": 2
   },
   "file_extension": ".py",
   "mimetype": "text/x-python",
   "name": "python",
   "nbconvert_exporter": "python",
   "pygments_lexer": "ipython2",
   "version": "2.7.16"
  }
 },
 "nbformat": 4,
 "nbformat_minor": 2
}
