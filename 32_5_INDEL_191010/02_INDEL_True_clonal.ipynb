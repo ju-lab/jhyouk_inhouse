{
 "cells": [
  {
   "cell_type": "code",
   "execution_count": 2,
   "metadata": {},
   "outputs": [
    {
     "name": "stdout",
     "output_type": "stream",
     "text": [
      "THE END\n",
      "[12, 7, 13, 9, 20, 13, 17, 23, 9]\n",
      "[20, 32, 1, 31, 40, 32, 17, 53, 79, 51, 84, 81, 85, 67, 72, 57, 67, 36, 32, 28, 43, 51, 41, 41, 47, 42, 42, 29, 30, 27, 21]\n"
     ]
    }
   ],
   "source": [
    "#selection of non-repetitive indels with doses\n",
    "info_file = file('00_9_mouse_human_191010.txt')\n",
    "\n",
    "info_line = info_file.readline().strip()\n",
    "info_line = info_file.readline().strip()\n",
    "info_id = []\n",
    "\n",
    "while info_line:\n",
    "    info_id.append([info_line.split('\\t')[0],info_line.split('\\t')[1],info_line.split('\\t')[3],info_line.split('\\t')[4],info_line.split('\\t')[6],info_line.split('\\t')[7],info_line.split('\\t')[8],info_line.split('\\t')[9]])\n",
    "    info_line = info_file.readline().strip()\n",
    "\n",
    "target_id = info_id\n",
    "n=0\n",
    "control_nr = []\n",
    "ir_nr=[]\n",
    "output_file= file(\"strict_indels_nonrepeat.txt\",\"w\")\n",
    "for i in target_id:\n",
    "    if i[7] == 'a' and i[6] == 'clonal' and i[5] == 'mouse':\n",
    "        #print i[0]\n",
    "        'blank'\n",
    "    else:\n",
    "        continue\n",
    "        \n",
    "    try:\n",
    "        input_file = file('mouse/' + i[0].replace(\"_retry\",\"\") + '.clonal.stricttrue.vcf')\n",
    "    except:\n",
    "        print i\n",
    "        continue\n",
    "        \n",
    "    input_line = input_file.readline().strip()\n",
    "    input_line = input_file.readline().strip()\n",
    "    n=0\n",
    "    repeat_count = 5\n",
    "    while input_line:\n",
    "        input_split = input_line.split('\\t')\n",
    "        input_lru = int(input_split[29].split(';')[-4])\n",
    "        input_rru = int(input_split[29].split(';')[-3])\n",
    "        if input_lru < repeat_count and input_rru < repeat_count:\n",
    "            #print input_line\n",
    "            n+=1\n",
    "        input_line = input_file.readline().strip()\n",
    "    output_file.write(\"%s\\t%s\\t%s\\t%s\\n\" % (i[0],i[1],i[3],n))\n",
    "    if i[1] == '0':\n",
    "        control_nr.append(n)\n",
    "    else:\n",
    "        ir_nr.append(n)\n",
    "print 'THE END'\n",
    "print control_nr\n",
    "print ir_nr\n",
    "output_file.close()"
   ]
  },
  {
   "cell_type": "code",
   "execution_count": null,
   "metadata": {},
   "outputs": [],
   "source": []
  }
 ],
 "metadata": {
  "kernelspec": {
   "display_name": "Python 2",
   "language": "python",
   "name": "python2"
  },
  "language_info": {
   "codemirror_mode": {
    "name": "ipython",
    "version": 2
   },
   "file_extension": ".py",
   "mimetype": "text/x-python",
   "name": "python",
   "nbconvert_exporter": "python",
   "pygments_lexer": "ipython2",
   "version": "2.7.16"
  }
 },
 "nbformat": 4,
 "nbformat_minor": 2
}
