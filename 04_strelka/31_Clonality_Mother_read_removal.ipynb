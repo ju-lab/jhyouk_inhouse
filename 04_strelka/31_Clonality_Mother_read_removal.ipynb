{
 "cells": [
  {
   "cell_type": "code",
   "execution_count": 8,
   "metadata": {},
   "outputs": [
    {
     "name": "stdout",
     "output_type": "stream",
     "text": [
      "werweerw\n",
      "1\n",
      "2\n",
      "3\n",
      "4\n",
      "5\n",
      "6\n",
      "7\n",
      "8\n",
      "9\n",
      "10\n",
      "11\n",
      "12\n",
      "13\n",
      "14\n",
      "15\n",
      "16\n",
      "17\n",
      "18\n",
      "19\n",
      "X\n",
      "GL456359.1\n",
      "GL456392.1\n",
      "GL456387.1\n",
      "GL456383.1\n",
      "GL456393.1\n",
      "GL456216.1\n",
      "JH584304.1\n",
      "GL456221.1\n",
      "GL456211.1\n",
      "The End\n"
     ]
    }
   ],
   "source": [
    "import sys, pysam\n",
    "#input_fn = sys.argv[1]\n",
    "#output_fn = input_fn + \"_mother_read_removal.vcf\"\n",
    "\n",
    "input_fn = \"S1P12_0-3\"\n",
    "output_fn = \"S1P12_0-3_mother_read_removal.vcf\"\n",
    "input_file = file(input_fn +'/results/passed.somatic.snvs.vaf_annotated.vcf')\n",
    "output_file = file(input_fn +'/results/' + output_fn,'w')\n",
    "\n",
    "bam_file = pysam.AlignmentFile('/home/users/team_projects/Radiation_signature/02_bam/N1-S1.s.md.ir.br.bam','rb')\n",
    "#bam_file = pysam.AlignmentFile('/home/users/team_projects/Radiation_signature/02_bam/Spleen_m3.s.md.ir.br.bam','rb')\n",
    "\n",
    "input_line = input_file.readline().strip()\n",
    "output_file.write(input_line + '\\t'+ 'N1S1_var_read_N' +'\\n')\n",
    "input_line = input_file.readline().strip()\n",
    "\n",
    "prev_chr = 0\n",
    "\n",
    "while input_line:\n",
    "    tf=0\n",
    "    input_split = input_line.split('\\t')\n",
    "    input_chr = input_split[0]\n",
    "    input_pos = long(input_split[1])\n",
    "    alt_nt = input_split[4][0]\n",
    "    \n",
    "    if input_chr != prev_chr:\n",
    "        print input_chr\n",
    "        prev_chr = input_chr\n",
    "\n",
    "    for read1 in bam_file.pileup(input_chr,input_pos-1,input_pos):\n",
    "        if long(read1.pos)==input_pos-1:\n",
    "            for pileupread in read1.pileups:\n",
    "                if pileupread.query_position == None:\n",
    "                    continue\n",
    "                elif pileupread.alignment.query_sequence[pileupread.query_position] == alt_nt:\n",
    "                    tf+=1\n",
    "                else:\n",
    "                    'blank'\n",
    "\n",
    "    if tf<2:\n",
    "        output_file.write(input_line+'\\t'+str(tf)+'\\n')\n",
    "\n",
    "    input_line = input_file.readline().strip()\n",
    "\n",
    "print 'The End'\n",
    "\n",
    "\n"
   ]
  },
  {
   "cell_type": "code",
   "execution_count": null,
   "metadata": {},
   "outputs": [],
   "source": []
  }
 ],
 "metadata": {
  "kernelspec": {
   "display_name": "Python 2",
   "language": "python",
   "name": "python2"
  },
  "language_info": {
   "codemirror_mode": {
    "name": "ipython",
    "version": 2
   },
   "file_extension": ".py",
   "mimetype": "text/x-python",
   "name": "python",
   "nbconvert_exporter": "python",
   "pygments_lexer": "ipython2",
   "version": "2.7.14"
  }
 },
 "nbformat": 4,
 "nbformat_minor": 2
}
