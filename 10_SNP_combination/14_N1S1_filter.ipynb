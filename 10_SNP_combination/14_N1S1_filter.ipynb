{
 "cells": [
  {
   "cell_type": "code",
   "execution_count": 14,
   "metadata": {},
   "outputs": [],
   "source": [
    "import sys\n",
    "input_fn = sys.argv[1]\n",
    "#info_fn = sys.argv[2]\n",
    "#input_fn = \"S1-0Gy-1.combination.Mutect_Strelka_union.vcf.readinfo.filtered.vcf\"\n",
    "info_fn = \"N1-S1.combination.Mutect_Strelka_union.vcf.readinfo\"\n",
    "output_fn = input_fn.replace(\".vcf\",\".net_clonal.vcf\")\n",
    "input_file = file(input_fn)\n",
    "info_file = file(info_fn)\n",
    "output_file = file(output_fn,'w')\n",
    "output1_file = file(output_fn.replace(\".vcf\",\".excluded.vcf\"),'w')\n",
    "\n",
    "input_line = input_file.readline()\n",
    "output_file.write(input_line)\n",
    "input_line = input_file.readline()\n",
    "info_line = info_file.readline()\n",
    "info_line = info_file.readline()\n",
    "\n",
    "while input_line:\n",
    "    new=0\n",
    "    input_split = input_line.split('\\t')\n",
    "    #print input_split[0].replace(\"X\",20).replace(\"Y\",21).replace(\"MT\",22)\n",
    "    input_chr = int(input_split[0].replace(\"X\",'20').replace(\"Y\",'21').replace(\"MT\",'22'))\n",
    "    input_pos = long(input_split[1])\n",
    "    \n",
    "    while info_line:\n",
    "        info_split = info_line.split('\\t')\n",
    "        info_chr = int(info_split[0].replace(\"X\",'20').replace(\"Y\",'21').replace(\"MT\",'22'))\n",
    "        info_pos = long(info_split[1])\n",
    "        \n",
    "        if input_chr < info_chr:\n",
    "            new=1\n",
    "            break\n",
    "        elif input_chr >info_chr:\n",
    "            info_line = info_file.readline()\n",
    "            continue\n",
    "        else:\n",
    "            if input_pos < info_pos:\n",
    "                new=1\n",
    "                break\n",
    "            elif input_pos > info_pos:\n",
    "                info_line = info_file.readline()\n",
    "                continue\n",
    "            else:\n",
    "                new=0  \n",
    "                break\n",
    "                \n",
    "    if new == 1:\n",
    "        output_file.write(input_line)\n",
    "    else:\n",
    "        output1_file.write(input_line)\n",
    "        \n",
    "    input_line = input_file.readline()\n",
    "        \n"
   ]
  },
  {
   "cell_type": "code",
   "execution_count": 2,
   "metadata": {},
   "outputs": [],
   "source": [
    "import sys, pysam\n",
    "input_fn = sys.argv[1]\n",
    "#input_fn = \"S1-0Gy-1.combination.Mutect_Strelka_union.vcf.readinfo.filtered\"\n",
    "output_fn = input_fn + \"N1S1_read_removal.vcf\"\n",
    "input_file = file(input_fn)\n",
    "output_file = file(output_fn,'w')\n",
    "#output1_file = file((output_fn+'N1S1_excluded.vcf'),'w')\n",
    "bam_file = pysam.AlignmentFile('/home/users/jhyouk/06_mm10_SNUH_radiation/03_bam/N1-S1.s.md.ir.br.rg.bam','rb')\n",
    "\n",
    "input_line = input_file.readline().strip()\n",
    "output_file.write(input_line + '\\t'+ 'N1S1_var_read_N' +'\\n')\n",
    "#output1_file.write(input_line+ '\\t'+ 'N1S1_var_read_N' +'\\n')\n",
    "input_line = input_file.readline().strip()\n",
    "\n",
    "while input_line:\n",
    "    tf=0\n",
    "    input_split = input_line.split('\\t')\n",
    "    input_chr = input_split[0]\n",
    "    input_pos = long(input_split[1])\n",
    "    alt_nt = input_split[4][0]\n",
    "    \n",
    "    for read1 in bam_file.pileup(input_chr,input_pos-1,input_pos):\n",
    "        if long(read1.pos)==input_pos-1:\n",
    "            for pileupread in read1.pileups:\n",
    "                if pileupread.query_position == None:\n",
    "                    continue\n",
    "                elif pileupread.alignment.query_sequence[pileupread.query_position] == alt_nt:\n",
    "                    tf+=1\n",
    "                else:\n",
    "                    'blank'\n",
    "    \n",
    "    if tf<2:\n",
    "        output_file.write(input_line+'\\t'+str(tf)+'\\n')\n",
    "    \n",
    "    input_line = input_file.readline().strip()"
   ]
  },
  {
   "cell_type": "code",
   "execution_count": 32,
   "metadata": {},
   "outputs": [
    {
     "data": {
      "text/plain": [
       "0.0"
      ]
     },
     "execution_count": 32,
     "metadata": {},
     "output_type": "execute_result"
    }
   ],
   "source": [
    "import math\n",
    "import scipy.stats\n",
    "\n",
    "temp = scipy.stats.binom(30,0.2)\n",
    "temp.pmf()\n"
   ]
  },
  {
   "cell_type": "code",
   "execution_count": null,
   "metadata": {},
   "outputs": [],
   "source": []
  }
 ],
 "metadata": {
  "kernelspec": {
   "display_name": "Python 2",
   "language": "python",
   "name": "python2"
  },
  "language_info": {
   "codemirror_mode": {
    "name": "ipython",
    "version": 2
   },
   "file_extension": ".py",
   "mimetype": "text/x-python",
   "name": "python",
   "nbconvert_exporter": "python",
   "pygments_lexer": "ipython2",
   "version": "2.7.14"
  }
 },
 "nbformat": 4,
 "nbformat_minor": 2
}
