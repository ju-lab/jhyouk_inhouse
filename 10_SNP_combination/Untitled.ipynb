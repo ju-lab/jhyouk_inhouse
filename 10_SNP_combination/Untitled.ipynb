{
 "cells": [
  {
   "cell_type": "code",
   "execution_count": 2,
   "metadata": {},
   "outputs": [
    {
     "name": "stdout",
     "output_type": "stream",
     "text": [
      "895 775\n",
      "The End\n"
     ]
    }
   ],
   "source": [
    "input_file = file('N1-S1.combination.Mutect_Strelka_union.vcf.readinfo.filtered.vcf')\n",
    "info_file = file('S1-0Gy-2.combination.Mutect_Strelka_union.vcf.readinfo.filtered.vcf')\n",
    "out\n",
    "i=1\n",
    "j=0\n",
    "\n",
    "input_line = input_file.readline()\n",
    "info_line = info_file.readline()\n",
    "input_line = input_file.readline()\n",
    "info_line = info_file.readline()\n",
    "\n",
    "while input_line:\n",
    "    input_split = input_line.split('\\t')\n",
    "    input_chr = int(input_split[0].replace(\"X\",\"20\").replace(\"Y\",\"21\"))\n",
    "    input_pos1=long(input_split[1])\n",
    "\n",
    "    info_split = info_line.split('\\t')\n",
    "    info_chr = int(info_split[0].replace(\"X\",\"20\").replace(\"Y\",\"21\"))\n",
    "    info_pos1 = long(info_split[1])\n",
    "    \n",
    "    if input_chr == info_chr:\n",
    "        if input_pos1 > info_pos1:\n",
    "            info_line = info_file.readline()\n",
    "            continue\n",
    "        elif input_pos1 < info_pos1:\n",
    "            input_line = input_file.readline()\n",
    "            i+=1\n",
    "            continue\n",
    "        else:\n",
    "            j+=1                       \n",
    "    elif input_chr > info_chr:\n",
    "        info_line = info_file.readline()\n",
    "        continue\n",
    "    else:\n",
    "        'blank'\n",
    "        \n",
    "    input_line = input_file.readline()\n",
    "    i+=1\n",
    "\n",
    "print i,j\n",
    "print 'The End'"
   ]
  },
  {
   "cell_type": "code",
   "execution_count": null,
   "metadata": {},
   "outputs": [],
   "source": []
  }
 ],
 "metadata": {
  "kernelspec": {
   "display_name": "Python 2",
   "language": "python",
   "name": "python2"
  },
  "language_info": {
   "codemirror_mode": {
    "name": "ipython",
    "version": 2
   },
   "file_extension": ".py",
   "mimetype": "text/x-python",
   "name": "python",
   "nbconvert_exporter": "python",
   "pygments_lexer": "ipython2",
   "version": "2.7.14"
  }
 },
 "nbformat": 4,
 "nbformat_minor": 2
}
