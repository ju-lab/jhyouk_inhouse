{
 "cells": [
  {
   "cell_type": "code",
   "execution_count": 3,
   "metadata": {},
   "outputs": [],
   "source": [
    "import sys\n",
    "input_fn = sys.argv[1]\n",
    "#input_fn = 'S1-8Gy-1.combination.Mutect_Strelka_union.vcf.readinfo.filtered.vcfN1S1_read>=2.vcf'\n",
    "input_file = file(input_fn)\n",
    "output_fn = input_fn[0:8] + '.DBS.vcf'\n",
    "output_file = file(output_fn,'w')\n",
    "\n",
    "input_line = input_file.readline()\n",
    "output_file.write(input_line)\n",
    "input_line = input_file.readline()\n",
    "previous_chr = 0\n",
    "previous_pos = 0\n",
    "previous_line = ''\n",
    "while input_line:\n",
    "    input_split = input_line.split('\\t')\n",
    "    input_chr = int(input_split[0].replace('X','20').replace('Y','21').replace('MT','22'))\n",
    "    input_pos = long(input_split[1])\n",
    "    \n",
    "    if input_chr == previous_chr:\n",
    "        if input_pos == previous_pos+1:\n",
    "            output_file.write(previous_line)\n",
    "            output_file.write(input_line)\n",
    "    \n",
    "    previous_chr = input_chr\n",
    "    previous_pos = input_pos\n",
    "    previous_line = input_line\n",
    "    \n",
    "    input_line = input_file.readline()\n",
    "    \n",
    "    "
   ]
  },
  {
   "cell_type": "code",
   "execution_count": null,
   "metadata": {},
   "outputs": [],
   "source": []
  },
  {
   "cell_type": "code",
   "execution_count": null,
   "metadata": {},
   "outputs": [],
   "source": []
  }
 ],
 "metadata": {
  "kernelspec": {
   "display_name": "Python 2",
   "language": "python",
   "name": "python2"
  },
  "language_info": {
   "codemirror_mode": {
    "name": "ipython",
    "version": 2
   },
   "file_extension": ".py",
   "mimetype": "text/x-python",
   "name": "python",
   "nbconvert_exporter": "python",
   "pygments_lexer": "ipython2",
   "version": "2.7.14"
  }
 },
 "nbformat": 4,
 "nbformat_minor": 2
}
