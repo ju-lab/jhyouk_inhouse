{
 "cells": [
  {
   "cell_type": "code",
   "execution_count": 13,
   "metadata": {},
   "outputs": [
    {
     "name": "stdout",
     "output_type": "stream",
     "text": [
      "The End\n"
     ]
    }
   ],
   "source": [
    "input_file = file(\"N1-S1.combination.Mutect_Strelka_union.vcf.readinfo.filtered\")\n",
    "output_file = file(\"N1-S1.vaf.all.txt\",'w')\n",
    "input_line = input_file.readline()\n",
    "input_line = input_file.readline()\n",
    "\n",
    "while input_line:\n",
    "    input_split=input_line.split('\\t')\n",
    "    input_vaf = input_split[5]\n",
    "    input_true = input_split[2]\n",
    "    \n",
    "    if input_true == 'T':\n",
    "        output_file.write(input_vaf + '\\n')\n",
    "        \n",
    "    input_line = input_file.readline()\n",
    "    \n",
    "    \n",
    "print 'The End'"
   ]
  },
  {
   "cell_type": "code",
   "execution_count": null,
   "metadata": {},
   "outputs": [],
   "source": []
  },
  {
   "cell_type": "code",
   "execution_count": null,
   "metadata": {},
   "outputs": [],
   "source": []
  }
 ],
 "metadata": {
  "kernelspec": {
   "display_name": "Python 2",
   "language": "python",
   "name": "python2"
  },
  "language_info": {
   "codemirror_mode": {
    "name": "ipython",
    "version": 2
   },
   "file_extension": ".py",
   "mimetype": "text/x-python",
   "name": "python",
   "nbconvert_exporter": "python",
   "pygments_lexer": "ipython2",
   "version": "2.7.14"
  }
 },
 "nbformat": 4,
 "nbformat_minor": 2
}
