{
 "cells": [
  {
   "cell_type": "code",
   "execution_count": 112,
   "metadata": {},
   "outputs": [
    {
     "name": "stdout",
     "output_type": "stream",
     "text": [
      "TG\n"
     ]
    }
   ],
   "source": [
    "from collections import Counter\n",
    "\n",
    "def most_common(lst):\n",
    "    data = Counter(lst)\n",
    "    return max(lst, key=data.get)\n",
    "\n",
    "a= ['','','','T','G']\n",
    "print ''.join(a)                        \n"
   ]
  },
  {
   "cell_type": "code",
   "execution_count": 90,
   "metadata": {},
   "outputs": [
    {
     "name": "stdout",
     "output_type": "stream",
     "text": [
      "1\t3320440\t.\tC\tA\t.\tPASS\tSOMATIC;VT=SNP\tGT:AD:BQ:DP:FA:SS\t0:47,0:.:47:0.00:0\t0/1:48,4:32:52:0.077:2\t.\t.\t.\t.\t.\tMutect\t0.08\n",
      "ST-E00127:774:HMFMKCCXY:5:1201:13169:15760\t147\t0\t3320292\t60\t151M\t0\t3320047\t151\tCTGTTGGTTTGGGTTTACCCCCACTGGAATATCCTCCTGCCTTCTGCCTCATTTCTTCTTACACATCATGCTTTCTTTATTGACTAGTTCTTCTATATAAACATCAACTGTTTTATGAGACTATTTAGTGTCTGTGTATCTTTTTAGATGT\tarray('B', [30, 30, 28, 31, 35, 36, 35, 36, 36, 38, 22, 21, 36, 37, 37, 37, 37, 38, 38, 38, 38, 39, 36, 38, 37, 36, 38, 37, 37, 37, 36, 37, 38, 38, 36, 37, 38, 37, 37, 37, 37, 34, 33, 37, 36, 37, 37, 38, 36, 38, 36, 36, 36, 36, 37, 33, 35, 36, 36, 35, 34, 35, 29, 37, 35, 34, 37, 31, 35, 36, 37, 35, 35, 35, 37, 35, 34, 34, 35, 35, 35, 36, 35, 37, 35, 37, 33, 34, 35, 37, 35, 34, 37, 34, 34, 34, 34, 34, 34, 35, 34, 36, 34, 34, 36, 34, 34, 36, 35, 32, 34, 34, 33, 34, 33, 35, 35, 36, 35, 34, 35, 34, 34, 34, 34, 33, 36, 33, 35, 33, 34, 36, 35, 33, 34, 33, 34, 34, 34, 36, 34, 33, 34, 34, 34, 35, 33, 33, 33, 27, 29])\t[('MC', '151M'), ('BD', 'NMPQRSRMSSMSRMSRQLLLRMRORPNPOOQOPMOPNPRPONMNPRPMOQOKNLNMLNPPKKKPONPOOQNJMLNJPMNPOOPPOPOLKMLKPMLMMOJNKPONPOPMLOIJPMOOMLOPPMNJPOPKLOLMLKMRNPMOLLLRRPTPMOO'), ('MD', '147C3'), ('PG', 'MarkDuplicates'), ('RG', 'S1-2Gy-1'), ('BI', 'PORSRPSOVVPSUPVVUPPPUPURUSRTRRTSSQSSQSTSSPOPRSRPRRSMPORPORSSNMMQRQQSQRQLONQLRPRRQQRRRSQONQONRPPPPSLPMQRPSQRONQLLRPSRNORRRPRLRRSMNRNONMNSPRORMMMTTRUTOQQ'), ('NM', 1), ('MQ', 60), ('AS', 147), ('XS', 22)]\n",
      "2\n"
     ]
    },
    {
     "ename": "SystemExit",
     "evalue": "1",
     "output_type": "error",
     "traceback": [
      "An exception has occurred, use %tb to see the full traceback.\n",
      "\u001b[0;31mSystemExit\u001b[0m\u001b[0;31m:\u001b[0m 1\n"
     ]
    }
   ],
   "source": [
    "import pysam, sys\n",
    "import numpy as np\n",
    "\n",
    "input_file = file('S1-2Gy-1.combination.Mutect_Strelka_union_test.vcf')\n",
    "tbam = pysam.AlignmentFile('/home/users/jhyouk/06_mm10_SNUH_radiation/03_bam/S1-2Gy-1.s.md.ir.br.rg.bam','rb')\n",
    "\n",
    "input_line = input_file.readline().strip()\n",
    "while input_line[0:1] == '#':\n",
    "    input_line = input_file.readline().strip()\n",
    "i=0\n",
    "while input_line:\n",
    "\n",
    "    input_split = input_line.split('\\t')\n",
    "    input_chr = input_split[0]\n",
    "    input_pos = long(input_split[1])\n",
    "    input_ref = input_split[3]\n",
    "    input_alt = input_split[4][0:1]\n",
    "\n",
    "    for read in tbam.fetch(input_chr,input_pos-1,input_pos):\n",
    "        i+=1\n",
    "        if read.cigartuples == None:\n",
    "            continue\n",
    "        else:          \n",
    "            print input_line\n",
    "            print read\n",
    "            a=read.get_cigar_stats()[0]\n",
    "            print a[10]+1\n",
    "            \n",
    "            if i == 1:\n",
    "                sys.exit(1)\n",
    "    input_line = input_file.readline().strip()"
   ]
  },
  {
   "cell_type": "code",
   "execution_count": null,
   "metadata": {},
   "outputs": [],
   "source": []
  }
 ],
 "metadata": {
  "kernelspec": {
   "display_name": "Python 2",
   "language": "python",
   "name": "python2"
  },
  "language_info": {
   "codemirror_mode": {
    "name": "ipython",
    "version": 2
   },
   "file_extension": ".py",
   "mimetype": "text/x-python",
   "name": "python",
   "nbconvert_exporter": "python",
   "pygments_lexer": "ipython2",
   "version": "2.7.14"
  }
 },
 "nbformat": 4,
 "nbformat_minor": 2
}
