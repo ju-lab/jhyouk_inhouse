{
 "cells": [
  {
   "cell_type": "code",
   "execution_count": 1,
   "metadata": {},
   "outputs": [
    {
     "name": "stdout",
     "output_type": "stream",
     "text": [
      "The End\n"
     ]
    }
   ],
   "source": [
    "# input_fn : somatic + germline bam file name list (ex>input_germlineLiver_20Gy_1_G.s.md.ir.br.bam) delineated by tab\n",
    "import sys\n",
    "input_fn = sys.argv[1]\n",
    "input_date = sys.argv[2] # 6digits ex>181120 for making run_script file\n",
    "\n",
    "input_file = file(input_fn)\n",
    "\n",
    "output_06 = file(\"06_mpileup/00_1_run_mpileup_\" + input_date + \"_human.sh\",'w')\n",
    "output_07 = file(\"07_sequenza/01_1_run_sequenza_\" + input_date + \"_human.sh\",'w')\n",
    "output_08 = file(\"08_delly/01_run_Delly_\" + input_date + \"_human.sh\",'w')\n",
    "output_09 = file(\"09_varscan/00_1_run_varscan_\" + input_date + \"_human.sh\",'w')\n",
    "output_14 = file(\"14_Strelka2/00_1_run_strelka2_\" + input_date + \"_human.sh\",'w')\n",
    "\n",
    "input_line = input_file.readline().strip()\n",
    "while input_line:\n",
    "    input_somatic_bam = input_line.split('\\t')[0]\n",
    "    input_somatic = input_somatic_bam.split('.s')[0]\n",
    "    input_germline_bam = input_line.split('\\t')[1]\n",
    "    input_germline = input_germline_bam.split('.s')[0]\n",
    "    \n",
    "    output_06.write(\"sh 00_human_b37_script_mpileup.sh \" + input_somatic + '\\n')  # Need to add new_germline\n",
    "    output_07.write(\"sh 01_human_b37_flow_sequenza.sh /home/users/jhyouk/06_mm10_SNUH_radiation/GRCh37/06_mpileup \" + input_somatic + \" \" + input_germline + ' 1 2 hg19 XX' +'\\n')\n",
    "    output_08.write(\"sh 00_human_b37_Delly.sh /home/users/team_projects/Radiation_signature/05_bam_human_sample_GRCh37 \" + input_somatic + \" \" + input_germline + '\\n')\n",
    "    output_09.write(\"sh 00_human_b37_varscan.sh /home/users/jhyouk/06_mm10_SNUH_radiation/GRCh37/06_mpileup \"+ input_somatic + \" \" + input_germline + '\\n')\n",
    "    output_14.write(\"sh 00_human_b37_script.sh /home/users/team_projects/Radiation_signature/05_bam_human_sample_GRCh37/\"+ input_germline_bam + \" /home/users/team_projects/Radiation_signature/05_bam_human_sample_GRCh37/\" + input_somatic_bam + \" \" + input_somatic + '\\n')\n",
    "\n",
    "    input_line = input_file.readline().strip()\n",
    "\n",
    "\n",
    "print 'The End'\n",
    "    \n",
    "    "
   ]
  },
  {
   "cell_type": "code",
   "execution_count": null,
   "metadata": {},
   "outputs": [],
   "source": []
  }
 ],
 "metadata": {
  "kernelspec": {
   "display_name": "Python 2",
   "language": "python",
   "name": "python2"
  },
  "language_info": {
   "codemirror_mode": {
    "name": "ipython",
    "version": 2
   },
   "file_extension": ".py",
   "mimetype": "text/x-python",
   "name": "python",
   "nbconvert_exporter": "python",
   "pygments_lexer": "ipython2",
   "version": "2.7.16"
  }
 },
 "nbformat": 4,
 "nbformat_minor": 2
}
