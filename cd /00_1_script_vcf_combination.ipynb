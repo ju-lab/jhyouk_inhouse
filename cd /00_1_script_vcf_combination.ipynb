{
 "cells": [
  {
   "cell_type": "code",
   "execution_count": 12,
   "metadata": {},
   "outputs": [
    {
     "name": "stdout",
     "output_type": "stream",
     "text": [
      "N1-S1\n",
      "S1-4Gy-2\n",
      "S1-8Gy-1\n",
      "S1-1Gy-2\n",
      "S1-2Gy-2\n",
      "S1-0Gy-2\n",
      "S1-2Gy-1\n",
      "S1-4Gy-1\n",
      "S1-1Gy-1\n",
      "S1-0Gy-1\n",
      "S1P13_0-4\n",
      "S1P13_0-5\n",
      "S1P12_0-3\n",
      "S1P12_0-7\n",
      "S1P13_2-3\n",
      "S1N2P16_4-7\n",
      "S1N2P15_2-8\n",
      "S1N2P16_4-5\n",
      "S1N2P16_4-6\n",
      "S1N2P15_4-1\n",
      "S1N2P15_0-2\n",
      "S1N2P15_0-1\n",
      "S1N2P16_2-11\n",
      "S1N2P16_4-8\n",
      "S1N2P15_4-2\n",
      "S1N2P15_0-3\n",
      "S1N2P15_0-4\n",
      "S1N2P16_2-4\n",
      "S1N2P16_2-3\n",
      "S1N2P15_0-5\n",
      "S1N2P16_2-5\n",
      "S1N2P15_1-1\n",
      "S1N2P16_4-3\n",
      "S1N2P16_2-9\n",
      "S1N2P16_4-4\n",
      "S1N2P15_2-2\n",
      "S1N2P15_2-7\n",
      "S1N2P15_2-6\n",
      "S1N2P15_2-1a\n",
      "S1N2P15_1-3a\n",
      "S1N2P15_1-5a\n",
      "S1N2P15_1-4a\n",
      "S1N2P15_1-2a\n"
     ]
    }
   ],
   "source": [
    "#vcf union of Strelka2 and Varscan2\n",
    "#python 00_1_script_vcf_combination.py <list file> <date> <species:human or mouse>\n",
    "\n",
    "import sys\n",
    "input_fn = sys.argv[1]\n",
    "input_date = sys.argv[2]\n",
    "input_species = sys.argv[3]\n",
    "#input_fn = \"union_list_190220.txt\"\n",
    "#input_date = '190220'\n",
    "#input_species = \"mouse\"\n",
    "#input_num = 3\n",
    "input_file = open(input_fn)\n",
    "output_fn = '00_2_run_union_' + input_date +  '.sh'\n",
    "output_file = file(output_fn,'w')\n",
    "\n",
    "input_line = input_file.readline().strip()\n",
    "while input_line:\n",
    "    input_split = input_line.split(' ')\n",
    "    input_ID = input_split[-1].split('.')[0]\n",
    "    output_file.write('python 00_vcf_combination_by_Youk.py %s %s 2 /home/users/jhyouk/06_mm10_SNUH_radiation/14_Strelka2/%s/results/variants/somatic.snvs.vcf.gz /home/users/jhyouk/06_mm10_SNUH_radiation/09_varscan/%s.varscan.snp.somatic.vcf &> %s.union.out\\n' % (input_ID,input_species,input_ID,input_ID,input_ID))\n",
    "    input_line = input_file.readline().strip()\n",
    "\n",
    "print 'The End'\n",
    "# python 00_vcf_combination_by_Youk.py <ID> <species:human or mouse> <number of files for union> <file1_path&name> <file2_path&name> <file3_path&name> ..."
   ]
  },
  {
   "cell_type": "code",
   "execution_count": null,
   "metadata": {},
   "outputs": [],
   "source": []
  },
  {
   "cell_type": "code",
   "execution_count": null,
   "metadata": {},
   "outputs": [],
   "source": []
  }
 ],
 "metadata": {
  "kernelspec": {
   "display_name": "Python 2",
   "language": "python",
   "name": "python2"
  },
  "language_info": {
   "codemirror_mode": {
    "name": "ipython",
    "version": 2
   },
   "file_extension": ".py",
   "mimetype": "text/x-python",
   "name": "python",
   "nbconvert_exporter": "python",
   "pygments_lexer": "ipython2",
   "version": "2.7.14"
  }
 },
 "nbformat": 4,
 "nbformat_minor": 2
}
