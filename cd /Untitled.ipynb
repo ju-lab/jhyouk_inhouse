{
 "cells": [
  {
   "cell_type": "code",
   "execution_count": 9,
   "metadata": {},
   "outputs": [
    {
     "name": "stdout",
     "output_type": "stream",
     "text": [
      "The End\n"
     ]
    }
   ],
   "source": [
    "input_file = file(\"S1-0Gy-1_union_2_normalpanel1_11.readinfo.readc.rasmy_pon_b6_4_pon_balbc_7.filter1.vcf\")\n",
    "\n",
    "output1_file=file(\"clonal.vcf\",'w')\n",
    "output2_file=file(\"subclonal.vcf\",'w')\n",
    "\n",
    "input_line = input_file.readline().strip()\n",
    "input_line = input_file.readline().strip()\n",
    "\n",
    "while input_line:\n",
    "    input_split = input_line.split('\\t')\n",
    "    input_decision = input_split[36]\n",
    "    \n",
    "    \n",
    "    if input_decision == 'T':\n",
    "        input_vaf = float(input_split[35])\n",
    "        if input_vaf >=0.3:\n",
    "            output1_file.write(input_line+'\\n')\n",
    "        else:\n",
    "            output2_file.write(input_line+'\\n')\n",
    "\n",
    "    input_line = input_file.readline().strip()\n",
    "    \n",
    "print 'The End'"
   ]
  },
  {
   "cell_type": "code",
   "execution_count": 14,
   "metadata": {},
   "outputs": [
    {
     "name": "stdout",
     "output_type": "stream",
     "text": [
      "30.941 37.39060939060939\n",
      "The End\n"
     ]
    }
   ],
   "source": [
    "#downstream & upstream coverage calcuation for copy number adjustment\n",
    "import sys, pysam, gzip,numpy\n",
    "\n",
    "input_fn = 'S1-0Gy-1_union_2_normalpanel1_11.readinfo.readc.rasmy_pon_b6_4_pon_balbc_7.filter1.mreadc.rasmy.vcf'\n",
    "input_file = file(input_fn)\n",
    "\n",
    "info_fn='/home/users/team_projects/Radiation_signature/02_bam/S1-0Gy-1.s.md.ir.br.bam'\n",
    "t_bam = pysam.AlignmentFile(info_fn,'rb')\n",
    "\n",
    "input_line = input_file.readline().strip()\n",
    "input_line = input_file.readline().strip()\n",
    "\n",
    "while input_line:\n",
    "    input_split = input_line.split('\\t')\n",
    "    input_chr = input_split[0]\n",
    "    input_pos = long(input_split[1])\n",
    "    \n",
    "    lt_coverage = []\n",
    "    for pileupcolumn in t_bam.pileup(input_chr,input_pos-1000,input_pos,min_mapping_quality=0,min_base_quality=10):\n",
    "        if input_pos-1000 <= pileupcolumn.pos and pileupcolumn.pos <= input_pos-1:\n",
    "            lt_coverage.append(pileupcolumn.n)\n",
    "    rt_coverage = []\n",
    "    \n",
    "    for pileupcolumn in t_bam.pileup(input_chr,input_pos,input_pos+1000,min_mapping_quality=0,min_base_quality=10):\n",
    "        if input_pos <= pileupcolumn.pos and pileupcolumn.pos <= input_pos+1000:\n",
    "            rt_coverage.append(pileupcolumn.n)            \n",
    "\n",
    "    return [round(numpy.mean(lt_coverage),2),round(numpy.mean(rt_coverage),2)]\n",
    "    input_line = input_file.readline().strip()\n",
    "    \n",
    "print 'The End'"
   ]
  },
  {
   "cell_type": "code",
   "execution_count": 12,
   "metadata": {},
   "outputs": [
    {
     "name": "stdout",
     "output_type": "stream",
     "text": [
      "2.0\n"
     ]
    }
   ],
   "source": [
    "import sys, pysam, gzip,numpy\n",
    "a= [1,2,3]\n",
    "print numpy.mean(a)"
   ]
  },
  {
   "cell_type": "code",
   "execution_count": null,
   "metadata": {},
   "outputs": [],
   "source": []
  }
 ],
 "metadata": {
  "kernelspec": {
   "display_name": "Python 2",
   "language": "python",
   "name": "python2"
  },
  "language_info": {
   "codemirror_mode": {
    "name": "ipython",
    "version": 2
   },
   "file_extension": ".py",
   "mimetype": "text/x-python",
   "name": "python",
   "nbconvert_exporter": "python",
   "pygments_lexer": "ipython2",
   "version": "2.7.14"
  }
 },
 "nbformat": 4,
 "nbformat_minor": 2
}
