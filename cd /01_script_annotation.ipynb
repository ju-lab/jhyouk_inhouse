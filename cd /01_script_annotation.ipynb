{
 "cells": [
  {
   "cell_type": "code",
   "execution_count": 2,
   "metadata": {},
   "outputs": [
    {
     "name": "stdout",
     "output_type": "stream",
     "text": [
      "The END\n"
     ]
    }
   ],
   "source": [
    "#preparation of run_script for annotation\n",
    "#python 01_script_annotation.py <list file> <date>\n",
    "\n",
    "import sys\n",
    "input_fn = sys.argv[1]\n",
    "input_date = sys.argv[2]\n",
    "#input_fn = \"union_list_190220.txt\"\n",
    "#input_date = '190220'\n",
    "\n",
    "input_file = open(input_fn)\n",
    "output_fn = '01_1_run_annotation_' + input_date +  '.sh'\n",
    "output_file = file(output_fn,'w')\n",
    "\n",
    "input_line = input_file.readline().strip()\n",
    "while input_line:\n",
    "    input_split = input_line.split(' ')\n",
    "    input_ID = input_split[-1].split('.varscan')[0]\n",
    "    file_name = input_ID + '_union_2.vcf'\n",
    "    output_file.write('sh sypark_PointMt_annot_filter/PointMt_annot.sh %s /home/users/team_projects/Radiation_signature/02_bam/%s.s.md.ir.br.bam /home/users/team_projects/Radiation_signature/02_bam/N1spleen.s.md.ir.br.bam sypark_PointMt_annot_filter/src &> %s.annotation.out && mv %s.annotation.out %s.annotation.success\\n' %(file_name,input_ID,input_ID,input_ID,input_ID))\n",
    "        \n",
    "    input_line = input_file.readline().strip()\n",
    "\n",
    "#sh PointMt_annot.sh <input file> <tumor bam> <normal bam> </path/to/scripts>"
   ]
  },
  {
   "cell_type": "code",
   "execution_count": 3,
   "metadata": {},
   "outputs": [],
   "source": []
  },
  {
   "cell_type": "code",
   "execution_count": null,
   "metadata": {},
   "outputs": [],
   "source": []
  }
 ],
 "metadata": {
  "kernelspec": {
   "display_name": "Python 2",
   "language": "python",
   "name": "python2"
  },
  "language_info": {
   "codemirror_mode": {
    "name": "ipython",
    "version": 2
   },
   "file_extension": ".py",
   "mimetype": "text/x-python",
   "name": "python",
   "nbconvert_exporter": "python",
   "pygments_lexer": "ipython2",
   "version": "2.7.14"
  }
 },
 "nbformat": 4,
 "nbformat_minor": 2
}
