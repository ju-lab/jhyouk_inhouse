{
 "cells": [
  {
   "cell_type": "code",
   "execution_count": 7,
   "metadata": {},
   "outputs": [
    {
     "name": "stdout",
     "output_type": "stream",
     "text": [
      "6 16 8 9\n",
      "THE END\n"
     ]
    }
   ],
   "source": [
    "import sys\n",
    "\n",
    "input_fn = 'S1N2P16_4-8.delly.somatic.annotated.filter1.motherinfo.filter2.vcf'\n",
    "input_file = file(input_fn)\n",
    "\n",
    "input_line = input_file.readline().strip()\n",
    "input_line = input_file.readline().strip()\n",
    "n33=0;n35=0;n53=0;n55=0\n",
    "while input_line:\n",
    "    input_split = input_line.split('\\t')\n",
    "    \n",
    "    if input_split[0] == '15':\n",
    "        if input_split[5] == '3to5':\n",
    "            n35+=1\n",
    "        elif input_split[5] == '3to3':\n",
    "            n33+=1\n",
    "        elif input_split[5] == '5to3':\n",
    "            n53+=1\n",
    "        elif input_split[5] == '5to5':\n",
    "            n55+=1\n",
    "            \n",
    "        \n",
    "    input_line = input_file.readline().strip()\n",
    "print n33,n35,n53,n55\n",
    "print 'THE END'\n"
   ]
  },
  {
   "cell_type": "code",
   "execution_count": 13,
   "metadata": {},
   "outputs": [
    {
     "name": "stdout",
     "output_type": "stream",
     "text": [
      "11\t11414060\t11\t11414066\t35\t3to5\tDEL\tT2\t6\tshort_indel\t0.21\tmother_clonal\t23;23;6;6;1;20.69%;20.69%\t5;0;21;24\t20;23;11;11;1;35.48%;32.35%\t.\n",
      "11\t11414060\t11\t11414066\t35\t3to5\tDEL\tT1\t6\tshort_indel\t0.23\tmother_clonal\t20;21;6;6;2;23.08%;22.22%\t5;0;21;24\t20;23;11;11;1;35.48%;32.35%\t.\n",
      "11\t11414060\t11\t11414066\t35\t3to5\tDEL\tT1\t6\tshort_indel\t0.34\tmother_clonal\t19;20;10;10;2;34.48%;33.33%\t5;0;21;24\t20;23;11;11;1;35.48%;32.35%\t.\n",
      "11\t11414060\t11\t11414066\t35\t3to5\tDEL\tT1\t6\tshort_indel\t0.16\tmother_clonal\t26;26;5;5;2;16.13%;16.13%\t5;0;21;24\t20;23;11;11;1;35.48%;32.35%\t.\n",
      "2\t98976640\t2\t98977505\t-2\t3to5\n",
      "9\t114943375\t9\t114969763\t1\t5to3\n",
      "16\t19211153\t16\t19211271\t0\t3to5\n",
      "4\t29937591\t4\t29938105\t6\t3to5\n",
      "X\t63214432\tX\t63234618\t3\t5to3\n",
      "X\t63215487\tX\t63215610\t-4\t3to5\n",
      "2\t3077908\t2\t3077949\t12\t3to5\n",
      "11\t11414060\t11\t11414066\t35\t3to5\n",
      "8\t45553592\t8\t45625823\t3\t5to3\n",
      "1\t25565262\t1\t25565583\t2\t3to5\n",
      "16\t69779784\t16\t69779817\t3\t3to5\n",
      "7\t123322177\t7\t123388659\t-10\t5to3\n",
      "14\t10587053\t14\t10640425\t-13\t3to5\n",
      "18\t5543636\t18\t5543662\t23\t3to5\n",
      "7\t129184489\t7\t129184603\t14\t3to5\n",
      "15\t11295535\t15\t11295658\t11\t3to5\n",
      "1\t67804222\t1\t67815644\t1\t5to3\n"
     ]
    }
   ],
   "source": [
    "import sys\n",
    "from operator import itemgetter\n",
    "\n",
    "clonality_list=['denovo_clonal','denovo_subclonal','mother_clonal','mother_subclonal','denovo_clonal_short_indel','denovo_subclonal_short_indel','denovo_?_short_indel']\n",
    "BP_list = ['.','short_indel','simpleF','complexF','simpleR','complexR','simpleU','complexU','unknown'] # complexR_1\n",
    "\n",
    "info_file = file('00_9_pancreas43.sh')\n",
    "#info_file = file('00_9_breast21.sh')\n",
    "info_line = info_file.readline().strip()\n",
    "info_line = info_file.readline().strip()\n",
    "info_id = []\n",
    "\n",
    "while info_line:\n",
    "    info_id.append([info_line.split('\\t')[0],info_line.split('\\t')[1]])\n",
    "    info_line = info_file.readline().strip()\n",
    "\n",
    "target_id = info_id[0:42]\n",
    "final_info = []\n",
    "\n",
    "id_list = []\n",
    "final_list = []\n",
    "\n",
    "for i in target_id:\n",
    "    input_file = file(i[0] + '.delly.somatic.annotated.filter1.motherinfo.filter2.vcf')\n",
    "    input_line = input_file.readline().strip()\n",
    "    input_line = input_file.readline().strip()\n",
    "    \n",
    "    while input_line:\n",
    "        input_split = input_line.split('\\t')    \n",
    "        input_id = '\\t'.join(input_split[0:6])\n",
    "        if input_id in id_list:\n",
    "            if input_id in final_list:\n",
    "                'blank'\n",
    "                if input_split[1] == '11414060':\n",
    "                    print input_line\n",
    "            else:\n",
    "                final_list.append(input_id)\n",
    "        else:\n",
    "            id_list.append(input_id)\n",
    "        input_line = input_file.readline().strip()\n",
    "    input_file.close()\n",
    "for j in final_list:\n",
    "    print j"
   ]
  },
  {
   "cell_type": "code",
   "execution_count": 13,
   "metadata": {},
   "outputs": [
    {
     "name": "stdout",
     "output_type": "stream",
     "text": [
      "22092195 22072614\n",
      "24536289 24665000\n",
      "8738488 11921126\n",
      "4559044 3485766\n",
      "31253805 29468000\n",
      "7201907 5016252\n",
      "15515653 15566321\n",
      "20600502 21424067\n",
      "24219772 24527882\n",
      "15496942 15371093\n",
      "27460661 26945502\n",
      "15568170 17511041\n",
      "18659281 20572843\n",
      "25735432 25728354\n",
      "11953551 11936612\n",
      "4572762 5013825\n",
      "7448811 8697086\n",
      "22092242 22919681\n",
      "22945510 22924175\n",
      "28353188 27461425\n",
      "25735640 26610572\n",
      "24669536 25721042\n",
      "17512410 18640930\n"
     ]
    }
   ],
   "source": [
    "input_file = file(\"4-8_chromothripsis_final_seg.txt\")\n",
    "input_line = input_file.readline().strip()\n",
    "input_line = input_file.readline().strip()\n",
    "info = []\n",
    "\n",
    "while input_line:\n",
    "    input_split = input_line.split('\\t')\n",
    "    input_dec = input_split[4]\n",
    "    if input_dec == '1':\n",
    "        print int(input_split[2]),int(input_split[3])\n",
    "        info.append((int(input_split[2]),int(input_split[3])))\n",
    "    else:\n",
    "        print int(input_split[3]),int(input_split[2])\n",
    "        info.append((int(input_split[3]),int(input_split[2])))\n",
    "        \n",
    "    input_line = input_file.readline().strip()\n",
    "#print len(info)\n",
    "#print info[0:23]"
   ]
  },
  {
   "cell_type": "code",
   "execution_count": null,
   "metadata": {},
   "outputs": [],
   "source": []
  }
 ],
 "metadata": {
  "kernelspec": {
   "display_name": "Python 2",
   "language": "python",
   "name": "python2"
  },
  "language_info": {
   "codemirror_mode": {
    "name": "ipython",
    "version": 2
   },
   "file_extension": ".py",
   "mimetype": "text/x-python",
   "name": "python",
   "nbconvert_exporter": "python",
   "pygments_lexer": "ipython2",
   "version": "2.7.16"
  }
 },
 "nbformat": 4,
 "nbformat_minor": 2
}
