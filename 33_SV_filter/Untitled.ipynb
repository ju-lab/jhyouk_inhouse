{
 "cells": [
  {
   "cell_type": "code",
   "execution_count": 8,
   "metadata": {},
   "outputs": [
    {
     "name": "stdout",
     "output_type": "stream",
     "text": [
      "The END\n"
     ]
    }
   ],
   "source": [
    "input_file=file(\"temp.sh\")\n",
    "output_file=file(\"100_list_invivo.sh\",'w')\n",
    "\n",
    "input_line = input_file.readline().strip()\n",
    "while input_line:\n",
    "    input_split = input_line.split(':')[1].split(' ')\n",
    "    input_id = input_split[1].replace(\".delly.vcf\",\"\")\n",
    "    output_file.write(input_id+'\\n')\n",
    "    \n",
    "    input_line = input_file.readline().strip()\n",
    "\n",
    "print 'The END'"
   ]
  },
  {
   "cell_type": "code",
   "execution_count": null,
   "metadata": {},
   "outputs": [],
   "source": []
  }
 ],
 "metadata": {
  "kernelspec": {
   "display_name": "Python 2",
   "language": "python",
   "name": "python2"
  },
  "language_info": {
   "codemirror_mode": {
    "name": "ipython",
    "version": 2
   },
   "file_extension": ".py",
   "mimetype": "text/x-python",
   "name": "python",
   "nbconvert_exporter": "python",
   "pygments_lexer": "ipython2",
   "version": "2.7.14"
  }
 },
 "nbformat": 4,
 "nbformat_minor": 2
}
