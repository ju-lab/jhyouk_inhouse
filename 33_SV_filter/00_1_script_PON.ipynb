{
 "cells": [
  {
   "cell_type": "code",
   "execution_count": 7,
   "metadata": {},
   "outputs": [
    {
     "name": "stdout",
     "output_type": "stream",
     "text": [
      "The END\n"
     ]
    }
   ],
   "source": [
    "import sys\n",
    "\n",
    "input_fn = 'list_somatic_190221.txt'\n",
    "input_file = file(input_fn)\n",
    "output_file = file('input_'+ input_fn,'w')\n",
    "\n",
    "input_line = input_file.readline().strip()\n",
    "while input_line:\n",
    "    input_ID = input_line.split('.delly')[0]\n",
    "    output_file.write('%s\\t/home/users/jhyouk/06_mm10_SNUH_radiation/08_delly/%s\\n'%(input_ID,input_line))\n",
    "    input_line = input_file.readline().strip()\n",
    "\n",
    "print 'The END'"
   ]
  },
  {
   "cell_type": "code",
   "execution_count": null,
   "metadata": {},
   "outputs": [],
   "source": []
  },
  {
   "cell_type": "code",
   "execution_count": null,
   "metadata": {},
   "outputs": [],
   "source": []
  }
 ],
 "metadata": {
  "kernelspec": {
   "display_name": "Python 2",
   "language": "python",
   "name": "python2"
  },
  "language_info": {
   "codemirror_mode": {
    "name": "ipython",
    "version": 2
   },
   "file_extension": ".py",
   "mimetype": "text/x-python",
   "name": "python",
   "nbconvert_exporter": "python",
   "pygments_lexer": "ipython2",
   "version": "2.7.14"
  }
 },
 "nbformat": 4,
 "nbformat_minor": 2
}
