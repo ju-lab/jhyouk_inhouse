{
 "cells": [
  {
   "cell_type": "code",
   "execution_count": 5,
   "metadata": {},
   "outputs": [
    {
     "name": "stdout",
     "output_type": "stream",
     "text": [
      "THE END\n"
     ]
    }
   ],
   "source": [
    "import sys\n",
    "from operator import itemgetter\n",
    "\n",
    "clonality_list=['denovo_clonal','denovo_subclonal','mother_clonal','mother_subclonal','denovo_clonal_short_indel','denovo_subclonal_short_indel','denovo_?_short_indel']\n",
    "BP_list = ['.','short_indel','simpleF','complexF','simpleR','complexR','simpleU','complexU','unknown'] # complexR_1\n",
    "\n",
    "info_file = file('00_9_pancreas43.sh')\n",
    "#info_file = file('00_9_breast21.sh')\n",
    "info_line = info_file.readline().strip()\n",
    "info_line = info_file.readline().strip()\n",
    "info_id = []\n",
    "\n",
    "while info_line:\n",
    "    info_id.append([info_line.split('\\t')[0],info_line.split('\\t')[1]])\n",
    "    info_line = info_file.readline().strip()\n",
    "\n",
    "target_id = info_id[0:42]\n",
    "final_info = []\n",
    "\n",
    "id_list = []\n",
    "final_list = []\n",
    "\n",
    "for i in target_id:\n",
    "    input_file = file(i[0] + '.delly.somatic.annotated.filter1.motherinfo.filter2.vcf')\n",
    "    input_line = input_file.readline().strip()\n",
    "    input_line = input_file.readline().strip()\n",
    "    \n",
    "    while input_line:\n",
    "        input_split = input_line.split('\\t')    \n",
    "        input_id = '\\t'.join(input_split[0:6])\n",
    "        if input_id in id_list:\n",
    "            if input_id in final_list:\n",
    "                'blank'\n",
    "            else:\n",
    "                final_list.append(input_id)\n",
    "        else:\n",
    "            id_list.append(input_id)\n",
    "        input_line = input_file.readline().strip()\n",
    "    input_file.close()\n",
    "    \n",
    "for i in target_id:\n",
    "    input_file = file(i[0] + '.delly.somatic.annotated.filter1.motherinfo.filter2.vcf')\n",
    "    output_file = file(i[0] + '.delly.somatic.annotated.filter1.motherinfo.filter2.reviewed.vcf','w')\n",
    "    \n",
    "    input_line = input_file.readline().strip()\n",
    "    output_file.write(input_line+'\\n')\n",
    "    \n",
    "    input_line = input_file.readline().strip()\n",
    "    while input_line:\n",
    "        input_split = input_line.split('\\t') \n",
    "        input_id = '\\t'.join(input_split[0:4])\n",
    "        input_denovo = input_split[11]\n",
    "        \n",
    "        if input_denovo == 'mother_clonal' or input_denovo == 'mother_subclonal':\n",
    "            'blank'\n",
    "        else:\n",
    "            if input_id in final_list:\n",
    "                'blank'\n",
    "            else:\n",
    "                output_file.write(input_line + '\\n')\n",
    "        input_line = input_file.readline().strip()\n",
    "    input_file.close()\n",
    "    output_file.close()\n",
    "print 'THE END'"
   ]
  },
  {
   "cell_type": "code",
   "execution_count": null,
   "metadata": {},
   "outputs": [],
   "source": []
  }
 ],
 "metadata": {
  "kernelspec": {
   "display_name": "Python 2",
   "language": "python",
   "name": "python2"
  },
  "language_info": {
   "codemirror_mode": {
    "name": "ipython",
    "version": 2
   },
   "file_extension": ".py",
   "mimetype": "text/x-python",
   "name": "python",
   "nbconvert_exporter": "python",
   "pygments_lexer": "ipython2",
   "version": "2.7.16"
  }
 },
 "nbformat": 4,
 "nbformat_minor": 2
}
