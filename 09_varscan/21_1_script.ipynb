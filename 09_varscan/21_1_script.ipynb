{
 "cells": [
  {
   "cell_type": "code",
   "execution_count": 8,
   "metadata": {},
   "outputs": [
    {
     "name": "stdout",
     "output_type": "stream",
     "text": [
      "The END\n"
     ]
    }
   ],
   "source": [
    "#python 21_1_script.py <vcf file list from ls -lhtr>\n",
    "\n",
    "import sys\n",
    "input_fn = sys.argv[1]\n",
    "#input_fn = 'union_list_190220.txt'\n",
    "input_file = file(input_fn)\n",
    "output_file = file('21_2_run_' + input_fn.replace('.txt','.sh'),'w')\n",
    "\n",
    "input_line = input_file.readline().strip()\n",
    "while input_line:\n",
    "    input_split = input_line.split(' ')\n",
    "    input_filename = input_split[-1]\n",
    "    \n",
    "    output_file.write('python 21_somaticfilter.py %s\\n'%(input_filename))\n",
    "    \n",
    "    input_line = input_file.readline().strip()\n",
    "\n",
    "print 'The END'"
   ]
  },
  {
   "cell_type": "code",
   "execution_count": null,
   "metadata": {},
   "outputs": [],
   "source": []
  }
 ],
 "metadata": {
  "kernelspec": {
   "display_name": "Python 2",
   "language": "python",
   "name": "python2"
  },
  "language_info": {
   "codemirror_mode": {
    "name": "ipython",
    "version": 2
   },
   "file_extension": ".py",
   "mimetype": "text/x-python",
   "name": "python",
   "nbconvert_exporter": "python",
   "pygments_lexer": "ipython2",
   "version": "2.7.14"
  }
 },
 "nbformat": 4,
 "nbformat_minor": 2
}
