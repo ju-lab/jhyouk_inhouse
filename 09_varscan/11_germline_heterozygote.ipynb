{
 "cells": [
  {
   "cell_type": "code",
   "execution_count": 7,
   "metadata": {},
   "outputs": [
    {
     "name": "stdout",
     "output_type": "stream",
     "text": [
      "The end\n"
     ]
    }
   ],
   "source": [
    "import sys\n",
    "\n",
    "input_fn = sys.argv[1]\n",
    "input_file = file(input_fn)\n",
    "output_file = file(input_fn.replace(\".vcf\",\"\") + 'swapdecision.vcf', 'w')\n",
    "#input_file = file(\"C3SO3_dirams8.varscan.snp.vcf\")\n",
    "#output_file = file(\"C3SO3_dirams8.varscan.snp.swapdecision.vcf\",'w')\n",
    "input_line = input_file.readline().strip()\n",
    "\n",
    "while input_line[0:2] == '##':\n",
    "    input_line = input_file.readline().strip()\n",
    "\n",
    "while input_line[0:1] == '#':\n",
    "    output_file.write(input_line + '\\t' + 'Vaf' + '\\n')\n",
    "    input_line = input_file.readline().strip()\n",
    "\n",
    "while input_line:\n",
    "    input_split = input_line.split('\\t')\n",
    "    input_germline = float(input_split[9].split(':')[3])\n",
    "    input_somatic = float(input_split[9].split(':')[4])\n",
    "    input_vaf = round(input_somatic/(input_germline+input_somatic),2)\n",
    "    \n",
    "    if input_germline > 8 and input_somatic > 8 and input_vaf > 0.4:\n",
    "        output_file.write(input_line + '\\t'+ str(input_vaf) + '\\n')\n",
    "    \n",
    "    input_line = input_file.readline().strip()\n",
    "\n",
    "\n",
    "print 'The end'\n"
   ]
  },
  {
   "cell_type": "code",
   "execution_count": null,
   "metadata": {},
   "outputs": [],
   "source": []
  },
  {
   "cell_type": "code",
   "execution_count": null,
   "metadata": {},
   "outputs": [],
   "source": []
  }
 ],
 "metadata": {
  "kernelspec": {
   "display_name": "Python 2",
   "language": "python",
   "name": "python2"
  },
  "language_info": {
   "codemirror_mode": {
    "name": "ipython",
    "version": 2
   },
   "file_extension": ".py",
   "mimetype": "text/x-python",
   "name": "python",
   "nbconvert_exporter": "python",
   "pygments_lexer": "ipython2",
   "version": "2.7.14"
  }
 },
 "nbformat": 4,
 "nbformat_minor": 2
}
